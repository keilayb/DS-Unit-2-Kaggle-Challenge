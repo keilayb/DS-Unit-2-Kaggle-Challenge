{
  "nbformat": 4,
  "nbformat_minor": 0,
  "metadata": {
    "colab": {
      "name": "2021_02_16_222_guided_project_notes.ipynb",
      "provenance": [],
      "collapsed_sections": []
    },
    "kernelspec": {
      "name": "python3",
      "display_name": "Python 3"
    }
  },
  "cells": [
    {
      "cell_type": "markdown",
      "metadata": {
        "id": "NvWhcow-dvS8"
      },
      "source": [
        "# Random Forests\n",
        "\n",
        "- use scikit-learn for **random forests**\n",
        "- do **ordinal encoding** with high-cardinality categoricals\n",
        "- understand how categorical encodings affect trees differently compared to linear models\n",
        "- understand how tree ensembles reduce overfitting compared to a single decision tree with unlimited depth"
      ]
    },
    {
      "cell_type": "code",
      "metadata": {
        "id": "HRgkCSgGdty-"
      },
      "source": [
        "%%capture\n",
        "\n",
        "import sys\n",
        "\n",
        "# If you're on Colab:\n",
        "if 'google.colab' in sys.modules:\n",
        "    DATA_PATH = 'https://raw.githubusercontent.com/LambdaSchool/DS-Unit-2-Kaggle-Challenge/master/data/'\n",
        "    !pip install category_encoders==2.*\n",
        "\n",
        "# If you're working locally:\n",
        "else:\n",
        "    DATA_PATH = '/Users/keila/Documents/Lambda/Units_Git/DS-Unit-2-Kaggle-Challenge/data/'"
      ],
      "execution_count": 1,
      "outputs": []
    },
    {
      "cell_type": "code",
      "metadata": {
        "id": "BiJT7wGsuXcG"
      },
      "source": [
        "from category_encoders import OrdinalEncoder\n",
        "from sklearn.ensemble import RandomForestClassifier\n",
        "from sklearn.impute import SimpleImputer\n",
        "from sklearn.model_selection import train_test_split\n",
        "from sklearn.pipeline import make_pipeline\n",
        "from sklearn.tree import DecisionTreeClassifier\n",
        "import matplotlib.pyplot as plt\n",
        "import pandas as pd\n",
        "import numpy as np"
      ],
      "execution_count": 34,
      "outputs": []
    },
    {
      "cell_type": "markdown",
      "metadata": {
        "id": "oCBYPw7kd1AN"
      },
      "source": [
        "# I. Wrangle Data"
      ]
    },
    {
      "cell_type": "code",
      "metadata": {
        "id": "GB03VuwJOvhF"
      },
      "source": [
        "def wrangle(fm_path, tv_path=None):\n",
        "  # Import CSV files\n",
        "  if tv_path:\n",
        "    df = pd.merge(pd.read_csv(fm_path, \n",
        "                              na_values=[0, -2.000000e-08], \n",
        "                              parse_dates = ['construction_year', 'date_recorded']), \n",
        "                  pd.read_csv(tv_path)).set_index('id')\n",
        "  else:\n",
        "    df = pd.read_csv(fm_path, na_values=[0, -2.000000e-08], \n",
        "                     parse_dates = ['construction_year', 'date_recorded']).set_index('id')\n",
        "\n",
        "  # Feature Engineering (Credit: Mena and Keila)\n",
        "  df['pump_age'] = df['date_recorded'].dt.year - df['construction_year'].dt.year\n",
        "\n",
        "  # Drop constant and repeated columns\n",
        "  df.drop(columns=['recorded_by', 'extraction_type_group', 'quantity_group', 'date_recorded', 'construction_year'], \n",
        "          inplace=True)\n",
        "  \n",
        "  # Drop columns with high % of NaN values\n",
        "  df.dropna(axis=1, thresh=len(df)*0.6, inplace = True)\n",
        "\n",
        "  return df\n",
        "\n",
        "df = wrangle(fm_path=DATA_PATH+'waterpumps/train_features.csv',\n",
        "             tv_path=DATA_PATH+'waterpumps/train_labels.csv')\n",
        "\n",
        "X_test = wrangle(fm_path=DATA_PATH+'waterpumps/test_features.csv')"
      ],
      "execution_count": 22,
      "outputs": []
    },
    {
      "cell_type": "code",
      "metadata": {
        "colab": {
          "base_uri": "https://localhost:8080/"
        },
        "id": "OD0757r31-r9",
        "outputId": "f4a03a43-3585-4e28-d68d-b7df8b0b5744"
      },
      "source": [
        "df.info()"
      ],
      "execution_count": 23,
      "outputs": [
        {
          "output_type": "stream",
          "text": [
            "<class 'pandas.core.frame.DataFrame'>\n",
            "Float64Index: 59399 entries, 69572.0 to 26348.0\n",
            "Data columns (total 33 columns):\n",
            " #   Column                 Non-Null Count  Dtype  \n",
            "---  ------                 --------------  -----  \n",
            " 0   funder                 54987 non-null  object \n",
            " 1   gps_height             38962 non-null  float64\n",
            " 2   installer              54967 non-null  object \n",
            " 3   longitude              57587 non-null  float64\n",
            " 4   latitude               57587 non-null  float64\n",
            " 5   wpt_name               59399 non-null  object \n",
            " 6   basin                  59399 non-null  object \n",
            " 7   subvillage             59028 non-null  object \n",
            " 8   region                 59399 non-null  object \n",
            " 9   region_code            59399 non-null  int64  \n",
            " 10  district_code          59376 non-null  float64\n",
            " 11  lga                    59399 non-null  object \n",
            " 12  ward                   59399 non-null  object \n",
            " 13  population             38019 non-null  float64\n",
            " 14  public_meeting         56066 non-null  object \n",
            " 15  scheme_management      55522 non-null  object \n",
            " 16  permit                 56343 non-null  object \n",
            " 17  extraction_type        59399 non-null  object \n",
            " 18  extraction_type_class  59399 non-null  object \n",
            " 19  management             59399 non-null  object \n",
            " 20  management_group       59399 non-null  object \n",
            " 21  payment                59399 non-null  object \n",
            " 22  payment_type           59399 non-null  object \n",
            " 23  water_quality          59399 non-null  object \n",
            " 24  quality_group          59399 non-null  object \n",
            " 25  quantity               59399 non-null  object \n",
            " 26  source                 59399 non-null  object \n",
            " 27  source_type            59399 non-null  object \n",
            " 28  source_class           59399 non-null  object \n",
            " 29  waterpoint_type        59399 non-null  object \n",
            " 30  waterpoint_type_group  59399 non-null  object \n",
            " 31  status_group           59399 non-null  object \n",
            " 32  pump_age               38691 non-null  float64\n",
            "dtypes: float64(6), int64(1), object(26)\n",
            "memory usage: 15.4+ MB\n"
          ],
          "name": "stdout"
        }
      ]
    },
    {
      "cell_type": "markdown",
      "metadata": {
        "id": "jetWccxMqmzY"
      },
      "source": [
        "# II. Split Data"
      ]
    },
    {
      "cell_type": "markdown",
      "metadata": {
        "id": "y-MPA0qlr-mK"
      },
      "source": [
        "## Split TV from FM"
      ]
    },
    {
      "cell_type": "code",
      "metadata": {
        "id": "r1tp2pnxqUvB"
      },
      "source": [
        "target = 'status_group'\n",
        "y = df[target]\n",
        "X = df.drop(columns=target)"
      ],
      "execution_count": 24,
      "outputs": []
    },
    {
      "cell_type": "markdown",
      "metadata": {
        "id": "n8jSWomGsLsw"
      },
      "source": [
        "# Training-Validation Split\n",
        "\n",
        "- Randomized split"
      ]
    },
    {
      "cell_type": "code",
      "metadata": {
        "id": "cPYl62lisKza"
      },
      "source": [
        "X_train, X_val, y_train, y_val = train_test_split(X, y, test_size=0.2, random_state=42)\n",
        "\n",
        "# Sanity check\n",
        "assert len(X_train) + len(X_val) == len(X)"
      ],
      "execution_count": 25,
      "outputs": []
    },
    {
      "cell_type": "markdown",
      "metadata": {
        "id": "WX9uvMMgs6J_"
      },
      "source": [
        "# III. Establish Baseline\n",
        "\n",
        "This is a **classification** problem, our baseline will be **accuracy**. "
      ]
    },
    {
      "cell_type": "code",
      "metadata": {
        "id": "bXLLxnTDs328",
        "colab": {
          "base_uri": "https://localhost:8080/"
        },
        "outputId": "46442066-c18d-4355-9767-28fb8fa3d445"
      },
      "source": [
        "print('Baseline Accuracy:', y_train.value_counts(normalize=True).max())"
      ],
      "execution_count": 26,
      "outputs": [
        {
          "output_type": "stream",
          "text": [
            "Baseline Accuracy: 0.5425829668132747\n"
          ],
          "name": "stdout"
        }
      ]
    },
    {
      "cell_type": "markdown",
      "metadata": {
        "id": "MA19NsrFtgTT"
      },
      "source": [
        "# IV. Build Model(s)\n",
        "\n",
        "- Missing values\n",
        "- Categorical values"
      ]
    },
    {
      "cell_type": "code",
      "metadata": {
        "id": "4m_3ManIjYCB"
      },
      "source": [
        "tree_model = make_pipeline(OrdinalEncoder(), # No OHE for high-cardinality categorical features with trees\n",
        "                           SimpleImputer(strategy = 'median'),\n",
        "                           DecisionTreeClassifier(random_state = 42)\n",
        "                           )\n",
        "\n",
        "tree_model.fit(X_train, y_train);"
      ],
      "execution_count": 27,
      "outputs": []
    },
    {
      "cell_type": "code",
      "metadata": {
        "id": "QzO-6jyQ7eqn"
      },
      "source": [
        "rf_model = make_pipeline(OrdinalEncoder(),\n",
        "                         SimpleImputer(strategy= 'median'),\n",
        "                         RandomForestClassifier(random_state=42,\n",
        "                                                n_jobs = -1,\n",
        "                                                max_samples = 0.7,\n",
        "                                                max_depth = 20))\n",
        "\n",
        "rf_model.fit(X_train, y_train);"
      ],
      "execution_count": 68,
      "outputs": []
    },
    {
      "cell_type": "markdown",
      "metadata": {
        "id": "v7Cr2n7Vu9cb"
      },
      "source": [
        "# V. Check Metrics"
      ]
    },
    {
      "cell_type": "code",
      "metadata": {
        "id": "K1bncI7svKf3",
        "colab": {
          "base_uri": "https://localhost:8080/"
        },
        "outputId": "5223e452-f0f5-4c04-f689-9009915eca09"
      },
      "source": [
        "print('TREE: Training Accuracy:', tree_model.score(X_train, y_train))\n",
        "print('TREE: Validation Accuracy:', tree_model.score(X_val, y_val))"
      ],
      "execution_count": 28,
      "outputs": [
        {
          "output_type": "stream",
          "text": [
            "TREE: Training Accuracy: 0.9999579115722133\n",
            "TREE: Validation Accuracy: 0.7102693602693603\n"
          ],
          "name": "stdout"
        }
      ]
    },
    {
      "cell_type": "code",
      "metadata": {
        "id": "br2QGU6MkcsR",
        "colab": {
          "base_uri": "https://localhost:8080/"
        },
        "outputId": "87a17436-641e-4bfc-abf4-268a1cb2b6da"
      },
      "source": [
        "print('FOREST: Training Accuracy:', rf_model.score(X_train, y_train))\n",
        "print('FOREST: Validation Accuracy:', rf_model.score(X_val, y_val))"
      ],
      "execution_count": 69,
      "outputs": [
        {
          "output_type": "stream",
          "text": [
            "FOREST: Training Accuracy: 0.9446326732464909\n",
            "FOREST: Validation Accuracy: 0.8095959595959596\n"
          ],
          "name": "stdout"
        }
      ]
    },
    {
      "cell_type": "markdown",
      "metadata": {
        "id": "1JoBVbzpQeQ0"
      },
      "source": [
        "# VI. Tune Model\n",
        "\n",
        "More depth -> more flexibility -> possibly more overfitting"
      ]
    },
    {
      "cell_type": "markdown",
      "metadata": {
        "id": "kb7owPGlHDOS"
      },
      "source": [
        "Hyperparameters that start with **max**:\n",
        "- Increase flexibility as they get larger\n"
      ]
    },
    {
      "cell_type": "markdown",
      "metadata": {
        "id": "D9Fgn_WWHPl5"
      },
      "source": [
        "\n",
        "Hyperparamaeter that start with **min**:\n",
        "- Less flexible as they get larger"
      ]
    },
    {
      "cell_type": "markdown",
      "metadata": {
        "id": "HNLTzHYzGAxP"
      },
      "source": [
        "**Finding best max_sample**"
      ]
    },
    {
      "cell_type": "code",
      "metadata": {
        "id": "JlEGpWViEmrf"
      },
      "source": [
        "samples = np.arange(0.2, 1, 0.1)\n",
        "\n",
        "train_acc = []\n",
        "val_acc = []\n",
        "\n",
        "for sample in samples:\n",
        "  tree_model = make_pipeline(\n",
        "      OrdinalEncoder(),\n",
        "      SimpleImputer(strategy='mean'),\n",
        "      RandomForestClassifier(n_estimators=25,\n",
        "                             n_jobs=-1,\n",
        "                             random_state=42,\n",
        "                             max_samples=sample)\n",
        "  )\n",
        "  tree_model.fit(X_train, y_train)\n",
        "\n",
        "  train_acc.append(tree_model.score(X_train, y_train))\n",
        "  val_acc.append(tree_model.score(X_val, y_val))"
      ],
      "execution_count": 35,
      "outputs": []
    },
    {
      "cell_type": "code",
      "metadata": {
        "colab": {
          "base_uri": "https://localhost:8080/",
          "height": 280
        },
        "id": "cQTUgJsnFBgy",
        "outputId": "58f17a7e-68c6-4759-f6b2-215b103b1796"
      },
      "source": [
        "plt.plot(samples, train_acc, label='training')\n",
        "plt.plot(samples, val_acc, label='validation')\n",
        "plt.xlabel('max_samples')\n",
        "plt.ylabel('accuracy score')\n",
        "plt.legend();"
      ],
      "execution_count": 36,
      "outputs": [
        {
          "output_type": "display_data",
          "data": {
            "image/png": "[encoded data removed]",
            "text/plain": [
              "<Figure size 432x288 with 1 Axes>"
            ]
          },
          "metadata": {
            "tags": [],
            "needs_background": "light"
          }
        }
      ]
    },
    {
      "cell_type": "markdown",
      "metadata": {
        "id": "im-WwP-SGESl"
      },
      "source": [
        "**Finding best max_depth**"
      ]
    },
    {
      "cell_type": "code",
      "metadata": {
        "id": "lvVM_WijFjms"
      },
      "source": [
        "depths = range(2, 42, 2)\n",
        "\n",
        "train_acc = []\n",
        "val_acc = []\n",
        "\n",
        "for depth in depths:\n",
        "  tree_model = make_pipeline(\n",
        "      OrdinalEncoder(),\n",
        "      SimpleImputer(strategy='mean'),\n",
        "      RandomForestClassifier(n_estimators=25,\n",
        "                             n_jobs=-1,\n",
        "                             random_state=42,\n",
        "                             max_depth = depth)\n",
        "  )\n",
        "  tree_model.fit(X_train, y_train)\n",
        "\n",
        "  train_acc.append(tree_model.score(X_train, y_train))\n",
        "  val_acc.append(tree_model.score(X_val, y_val))"
      ],
      "execution_count": 41,
      "outputs": []
    },
    {
      "cell_type": "code",
      "metadata": {
        "colab": {
          "base_uri": "https://localhost:8080/",
          "height": 280
        },
        "id": "OEupQZb1F3hg",
        "outputId": "ab07d5b8-afe7-4b72-8513-fbdf44e2c0aa"
      },
      "source": [
        "plt.plot(depths, train_acc, label='training')\n",
        "plt.plot(depths, val_acc, label='validation')\n",
        "plt.xlabel('max_depth')\n",
        "plt.ylabel('accuracy score')\n",
        "plt.legend();"
      ],
      "execution_count": 42,
      "outputs": [
        {
          "output_type": "display_data",
          "data": {
            "image/png": "[encoded data removed]",
            "text/plain": [
              "<Figure size 432x288 with 1 Axes>"
            ]
          },
          "metadata": {
            "tags": [],
            "needs_background": "light"
          }
        }
      ]
    },
    {
      "cell_type": "markdown",
      "metadata": {
        "id": "W3dbaritM0Vi"
      },
      "source": [
        "**Finding best max_features**"
      ]
    },
    {
      "cell_type": "code",
      "metadata": {
        "id": "YRJ7iWhQMYp9"
      },
      "source": [
        "features = np.arange(0.1, 1, 0.1)\n",
        "\n",
        "train_acc = []\n",
        "val_acc = []\n",
        "\n",
        "for feature in features:\n",
        "  tree_model = make_pipeline(\n",
        "      OrdinalEncoder(),\n",
        "      SimpleImputer(strategy='mean'),\n",
        "      RandomForestClassifier(n_estimators=25,\n",
        "                             n_jobs=-1,\n",
        "                             random_state=42,\n",
        "                             max_features = feature)\n",
        "  )\n",
        "  tree_model.fit(X_train, y_train)\n",
        "\n",
        "  train_acc.append(tree_model.score(X_train, y_train))\n",
        "  val_acc.append(tree_model.score(X_val, y_val))"
      ],
      "execution_count": 58,
      "outputs": []
    },
    {
      "cell_type": "code",
      "metadata": {
        "colab": {
          "base_uri": "https://localhost:8080/",
          "height": 280
        },
        "id": "-bHkmcw6MYZm",
        "outputId": "12aaf000-81d5-4e40-be5d-42832296cc90"
      },
      "source": [
        "plt.plot(features, train_acc, label='training')\n",
        "plt.plot(features, val_acc, label='validation')\n",
        "plt.xlabel('max_features')\n",
        "plt.ylabel('accuracy score')\n",
        "plt.legend();"
      ],
      "execution_count": 59,
      "outputs": [
        {
          "output_type": "display_data",
          "data": {
            "image/png": "[encoded data removed]",
            "text/plain": [
              "<Figure size 432x288 with 1 Axes>"
            ]
          },
          "metadata": {
            "tags": [],
            "needs_background": "light"
          }
        }
      ]
    },
    {
      "cell_type": "markdown",
      "metadata": {
        "id": "zw5mir81QglM"
      },
      "source": [
        "# VII. Communicate Results"
      ]
    },
    {
      "cell_type": "markdown",
      "metadata": {
        "id": "X2ehMuclJhAl"
      },
      "source": [
        "The higher the Gini importance, the more responsible that feature is for reducing the impurity of the tree."
      ]
    },
    {
      "cell_type": "code",
      "metadata": {
        "id": "E22k2Qw7hAcd",
        "colab": {
          "base_uri": "https://localhost:8080/",
          "height": 279
        },
        "outputId": "4353ae11-9215-4f6e-9b44-758e1aa31a1e"
      },
      "source": [
        "importances = rf_model.named_steps['randomforestclassifier'].feature_importances_\n",
        "features = X_train.columns\n",
        "\n",
        "feat_imp = pd.Series(importances, index = features).sort_values()\n",
        "feat_imp.tail(10).plot(kind = 'barh')\n",
        "plt.xlabel('Gini importance');"
      ],
      "execution_count": 57,
      "outputs": [
        {
          "output_type": "display_data",
          "data": {
            "image/png": "[encoded data removed]",
            "text/plain": [
              "<Figure size 432x288 with 1 Axes>"
            ]
          },
          "metadata": {
            "tags": [],
            "needs_background": "light"
          }
        }
      ]
    },
    {
      "cell_type": "code",
      "metadata": {
        "id": "JlUNoYahIcKV"
      },
      "source": [
        ""
      ],
      "execution_count": null,
      "outputs": []
    }
  ]
}