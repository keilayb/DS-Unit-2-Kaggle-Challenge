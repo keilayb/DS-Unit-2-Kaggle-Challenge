{
 "cells": [
  {
   "cell_type": "markdown",
   "metadata": {},
   "source": [
    "Lambda School Data Science\n",
    "\n",
    "*Unit 2, Sprint 2, Module 3*\n",
    "\n",
    "---"
   ]
  },
  {
   "cell_type": "markdown",
   "metadata": {},
   "source": [
    "# Cross-Validation\n",
    "\n",
    "\n",
    "## Assignment\n",
    "- [x] [Review requirements for your portfolio project](https://lambdaschool.github.io/ds/unit2), then submit your dataset.\n",
    "- [x] Continue to participate in our Kaggle challenge. \n",
    "- [x] Use scikit-learn for hyperparameter optimization with RandomizedSearchCV.\n",
    "- [x] Submit your predictions to our Kaggle competition. (Go to our Kaggle InClass competition webpage. Use the blue **Submit Predictions** button to upload your CSV file. Or you can use the Kaggle API to submit your predictions.)\n",
    "- [x] Commit your notebook to your fork of the GitHub repo.\n",
    "\n",
    "\n",
    "**You can't just copy** from the lesson notebook to this assignment.\n",
    "\n",
    "- Because the lesson was **regression**, but the assignment is **classification.**\n",
    "- Because the lesson used [TargetEncoder](https://contrib.scikit-learn.org/categorical-encoding/targetencoder.html), which doesn't work as-is for _multi-class_ classification.\n",
    "\n",
    "So you will have to adapt the example, which is good real-world practice.\n",
    "\n",
    "1. Use a model for classification, such as [RandomForestClassifier](https://scikit-learn.org/stable/modules/generated/sklearn.ensemble.RandomForestClassifier.html)\n",
    "2. Use hyperparameters that match the classifier, such as `randomforestclassifier__ ...`\n",
    "3. Use a metric for classification, such as [`scoring='accuracy'`](https://scikit-learn.org/stable/modules/model_evaluation.html#common-cases-predefined-values)\n",
    "4. If you’re doing a multi-class classification problem — such as whether a waterpump is functional, functional needs repair, or nonfunctional — then use a categorical encoding that works for multi-class classification, such as [OrdinalEncoder](https://contrib.scikit-learn.org/categorical-encoding/ordinal.html) (not [TargetEncoder](https://contrib.scikit-learn.org/categorical-encoding/targetencoder.html))\n",
    "\n",
    "\n",
    "\n",
    "## Stretch Goals\n",
    "\n",
    "### Reading\n",
    "- Jake VanderPlas, [Python Data Science Handbook, Chapter 5.3](https://jakevdp.github.io/PythonDataScienceHandbook/05.03-hyperparameters-and-model-validation.html), Hyperparameters and Model Validation\n",
    "- Jake VanderPlas, [Statistics for Hackers](https://speakerdeck.com/jakevdp/statistics-for-hackers?slide=107)\n",
    "- Ron Zacharski, [A Programmer's Guide to Data Mining, Chapter 5](http://guidetodatamining.com/chapter5/), 10-fold cross validation\n",
    "- Sebastian Raschka, [A Basic Pipeline and Grid Search Setup](https://github.com/rasbt/python-machine-learning-book/blob/master/code/bonus/svm_iris_pipeline_and_gridsearch.ipynb)\n",
    "- Peter Worcester, [A Comparison of Grid Search and Randomized Search Using Scikit Learn](https://blog.usejournal.com/a-comparison-of-grid-search-and-randomized-search-using-scikit-learn-29823179bc85)\n",
    "\n",
    "### Doing\n",
    "- Add your own stretch goals!\n",
    "- Try other [categorical encodings](https://contrib.scikit-learn.org/categorical-encoding/). See the previous assignment notebook for details.\n",
    "- In additon to `RandomizedSearchCV`, scikit-learn has [`GridSearchCV`](https://scikit-learn.org/stable/modules/generated/sklearn.model_selection.GridSearchCV.html). Another library called scikit-optimize has [`BayesSearchCV`](https://scikit-optimize.github.io/notebooks/sklearn-gridsearchcv-replacement.html). Experiment with these alternatives.\n",
    "- _[Introduction to Machine Learning with Python](http://shop.oreilly.com/product/0636920030515.do)_ discusses options for \"Grid-Searching Which Model To Use\" in Chapter 6:\n",
    "\n",
    "> You can even go further in combining GridSearchCV and Pipeline: it is also possible to search over the actual steps being performed in the pipeline (say whether to use StandardScaler or MinMaxScaler). This leads to an even bigger search space and should be considered carefully. Trying all possible solutions is usually not a viable machine learning strategy. However, here is an example comparing a RandomForestClassifier and an SVC ...\n",
    "\n",
    "The example is shown in [the accompanying notebook](https://github.com/amueller/introduction_to_ml_with_python/blob/master/06-algorithm-chains-and-pipelines.ipynb), code cells 35-37. Could you apply this concept to your own pipelines?\n"
   ]
  },
  {
   "cell_type": "markdown",
   "metadata": {},
   "source": [
    "### BONUS: Stacking!\n",
    "\n",
    "Here's some code you can use to \"stack\" multiple submissions, which is another form of ensembling:\n",
    "\n",
    "```python\n",
    "import pandas as pd\n",
    "\n",
    "# Filenames of your submissions you want to ensemble\n",
    "files = ['submission-01.csv', 'submission-02.csv', 'submission-03.csv']\n",
    "\n",
    "target = 'status_group'\n",
    "submissions = (pd.read_csv(file)[[target]] for file in files)\n",
    "ensemble = pd.concat(submissions, axis='columns')\n",
    "majority_vote = ensemble.mode(axis='columns')[0]\n",
    "\n",
    "sample_submission = pd.read_csv('sample_submission.csv')\n",
    "submission = sample_submission.copy()\n",
    "submission[target] = majority_vote\n",
    "submission.to_csv('my-ultimate-ensemble-submission.csv', index=False)\n",
    "```"
   ]
  },
  {
   "cell_type": "code",
   "execution_count": 6,
   "metadata": {},
   "outputs": [],
   "source": [
    "%%capture\n",
    "import sys\n",
    "\n",
    "# If you're on Colab:\n",
    "if 'google.colab' in sys.modules:\n",
    "    DATA_PATH = 'https://raw.githubusercontent.com/LambdaSchool/DS-Unit-2-Kaggle-Challenge/master/data/'\n",
    "    !pip install category_encoders==2.*\n",
    "\n",
    "# If you're working locally:\n",
    "else:\n",
    "    DATA_PATH = '/Users/keila/Documents/Lambda/Units_Git/DS-Unit-2-Kaggle-Challenge/data/'"
   ]
  },
  {
   "cell_type": "code",
   "execution_count": 7,
   "metadata": {},
   "outputs": [],
   "source": [
    "from category_encoders import OrdinalEncoder\n",
    "from sklearn.ensemble import RandomForestClassifier\n",
    "from sklearn.impute import SimpleImputer\n",
    "from sklearn.model_selection import cross_val_score\n",
    "from sklearn.model_selection import GridSearchCV, RandomizedSearchCV\n",
    "from sklearn.pipeline import make_pipeline\n",
    "from sklearn.preprocessing import StandardScaler\n",
    "from sklearn.tree import DecisionTreeClassifier\n",
    "from skopt import BayesSearchCV\n",
    "\n",
    "import numpy as np\n",
    "import pandas as pd\n",
    "\n",
    "import matplotlib.pyplot as plt"
   ]
  },
  {
   "cell_type": "markdown",
   "metadata": {},
   "source": [
    "## Wrangle Data"
   ]
  },
  {
   "cell_type": "code",
   "execution_count": 8,
   "metadata": {},
   "outputs": [],
   "source": [
    "def wrangle(fm_path, tv_path = None):\n",
    "    # Import CSV files\n",
    "    if tv_path:\n",
    "        df = pd.merge(pd.read_csv(fm_path, \n",
    "                                   na_values = [0, -2.000000e-08],\n",
    "                                   parse_dates = ['construction_year', 'date_recorded']),\n",
    "                       pd.read_csv(tv_path)).set_index('id')\n",
    "    else:\n",
    "        df = pd.read_csv(fm_path, na_values=[0, -2.000000e-08], \n",
    "                     parse_dates = ['construction_year', 'date_recorded']).set_index('id')\n",
    "    \n",
    "    # Feature engineering (Credit: Mena)\n",
    "    df['pump_age'] = df['date_recorded'].dt.year - df['construction_year'].dt.year\n",
    "    \n",
    "    # Drop constant and repeated columns\n",
    "    df.drop(columns = ['recorded_by', 'extraction_type_group', 'extraction_type_class',\n",
    "                       'quantity_group','date_recorded', 'construction_year', 'payment',\n",
    "                       'source', 'waterpoint_type_group', 'scheme_management'], \n",
    "            inplace=True)\n",
    "    \n",
    "    # Drop columns with high % of NaN values\n",
    "    df.dropna(axis = 1, thresh = len(df) * 0.65, inplace = True)\n",
    "    \n",
    "    # Columns where zeroes should be null values (Credit: Samuel E)\n",
    "    cols_w_0s = ['longitude', 'latitude', 'gps_height']\n",
    "    for col in cols_w_0s:\n",
    "        df[col] = df[col].replace(0, np.nan)\n",
    "    \n",
    "    return df"
   ]
  },
  {
   "cell_type": "code",
   "execution_count": 9,
   "metadata": {},
   "outputs": [
    {
     "data": {
      "text/html": [
       "<div>\n",
       "<style scoped>\n",
       "    .dataframe tbody tr th:only-of-type {\n",
       "        vertical-align: middle;\n",
       "    }\n",
       "\n",
       "    .dataframe tbody tr th {\n",
       "        vertical-align: top;\n",
       "    }\n",
       "\n",
       "    .dataframe thead th {\n",
       "        text-align: right;\n",
       "    }\n",
       "</style>\n",
       "<table border=\"1\" class=\"dataframe\">\n",
       "  <thead>\n",
       "    <tr style=\"text-align: right;\">\n",
       "      <th></th>\n",
       "      <th>funder</th>\n",
       "      <th>gps_height</th>\n",
       "      <th>installer</th>\n",
       "      <th>longitude</th>\n",
       "      <th>latitude</th>\n",
       "      <th>wpt_name</th>\n",
       "      <th>basin</th>\n",
       "      <th>subvillage</th>\n",
       "      <th>region</th>\n",
       "      <th>region_code</th>\n",
       "      <th>...</th>\n",
       "      <th>management_group</th>\n",
       "      <th>payment_type</th>\n",
       "      <th>water_quality</th>\n",
       "      <th>quality_group</th>\n",
       "      <th>quantity</th>\n",
       "      <th>source_type</th>\n",
       "      <th>source_class</th>\n",
       "      <th>waterpoint_type</th>\n",
       "      <th>status_group</th>\n",
       "      <th>pump_age</th>\n",
       "    </tr>\n",
       "    <tr>\n",
       "      <th>id</th>\n",
       "      <th></th>\n",
       "      <th></th>\n",
       "      <th></th>\n",
       "      <th></th>\n",
       "      <th></th>\n",
       "      <th></th>\n",
       "      <th></th>\n",
       "      <th></th>\n",
       "      <th></th>\n",
       "      <th></th>\n",
       "      <th></th>\n",
       "      <th></th>\n",
       "      <th></th>\n",
       "      <th></th>\n",
       "      <th></th>\n",
       "      <th></th>\n",
       "      <th></th>\n",
       "      <th></th>\n",
       "      <th></th>\n",
       "      <th></th>\n",
       "      <th></th>\n",
       "    </tr>\n",
       "  </thead>\n",
       "  <tbody>\n",
       "    <tr>\n",
       "      <th>69572.0</th>\n",
       "      <td>Roman</td>\n",
       "      <td>1390.0</td>\n",
       "      <td>Roman</td>\n",
       "      <td>34.938093</td>\n",
       "      <td>-9.856322</td>\n",
       "      <td>none</td>\n",
       "      <td>Lake Nyasa</td>\n",
       "      <td>Mnyusi B</td>\n",
       "      <td>Iringa</td>\n",
       "      <td>11</td>\n",
       "      <td>...</td>\n",
       "      <td>user-group</td>\n",
       "      <td>annually</td>\n",
       "      <td>soft</td>\n",
       "      <td>good</td>\n",
       "      <td>enough</td>\n",
       "      <td>spring</td>\n",
       "      <td>groundwater</td>\n",
       "      <td>communal standpipe</td>\n",
       "      <td>functional</td>\n",
       "      <td>12.0</td>\n",
       "    </tr>\n",
       "    <tr>\n",
       "      <th>8776.0</th>\n",
       "      <td>Grumeti</td>\n",
       "      <td>1399.0</td>\n",
       "      <td>GRUMETI</td>\n",
       "      <td>34.698766</td>\n",
       "      <td>-2.147466</td>\n",
       "      <td>Zahanati</td>\n",
       "      <td>Lake Victoria</td>\n",
       "      <td>Nyamara</td>\n",
       "      <td>Mara</td>\n",
       "      <td>20</td>\n",
       "      <td>...</td>\n",
       "      <td>user-group</td>\n",
       "      <td>never pay</td>\n",
       "      <td>soft</td>\n",
       "      <td>good</td>\n",
       "      <td>insufficient</td>\n",
       "      <td>rainwater harvesting</td>\n",
       "      <td>surface</td>\n",
       "      <td>communal standpipe</td>\n",
       "      <td>functional</td>\n",
       "      <td>3.0</td>\n",
       "    </tr>\n",
       "    <tr>\n",
       "      <th>34310.0</th>\n",
       "      <td>Lottery Club</td>\n",
       "      <td>686.0</td>\n",
       "      <td>World vision</td>\n",
       "      <td>37.460664</td>\n",
       "      <td>-3.821329</td>\n",
       "      <td>Kwa Mahundi</td>\n",
       "      <td>Pangani</td>\n",
       "      <td>Majengo</td>\n",
       "      <td>Manyara</td>\n",
       "      <td>21</td>\n",
       "      <td>...</td>\n",
       "      <td>user-group</td>\n",
       "      <td>per bucket</td>\n",
       "      <td>soft</td>\n",
       "      <td>good</td>\n",
       "      <td>enough</td>\n",
       "      <td>dam</td>\n",
       "      <td>surface</td>\n",
       "      <td>communal standpipe multiple</td>\n",
       "      <td>functional</td>\n",
       "      <td>4.0</td>\n",
       "    </tr>\n",
       "    <tr>\n",
       "      <th>67743.0</th>\n",
       "      <td>Unicef</td>\n",
       "      <td>263.0</td>\n",
       "      <td>UNICEF</td>\n",
       "      <td>38.486161</td>\n",
       "      <td>-11.155298</td>\n",
       "      <td>Zahanati Ya Nanyumbu</td>\n",
       "      <td>Ruvuma / Southern Coast</td>\n",
       "      <td>Mahakamani</td>\n",
       "      <td>Mtwara</td>\n",
       "      <td>90</td>\n",
       "      <td>...</td>\n",
       "      <td>user-group</td>\n",
       "      <td>never pay</td>\n",
       "      <td>soft</td>\n",
       "      <td>good</td>\n",
       "      <td>dry</td>\n",
       "      <td>borehole</td>\n",
       "      <td>groundwater</td>\n",
       "      <td>communal standpipe multiple</td>\n",
       "      <td>non functional</td>\n",
       "      <td>27.0</td>\n",
       "    </tr>\n",
       "    <tr>\n",
       "      <th>19728.0</th>\n",
       "      <td>Action In A</td>\n",
       "      <td>NaN</td>\n",
       "      <td>Artisan</td>\n",
       "      <td>31.130847</td>\n",
       "      <td>-1.825359</td>\n",
       "      <td>Shuleni</td>\n",
       "      <td>Lake Victoria</td>\n",
       "      <td>Kyanyamisa</td>\n",
       "      <td>Kagera</td>\n",
       "      <td>18</td>\n",
       "      <td>...</td>\n",
       "      <td>other</td>\n",
       "      <td>never pay</td>\n",
       "      <td>soft</td>\n",
       "      <td>good</td>\n",
       "      <td>seasonal</td>\n",
       "      <td>rainwater harvesting</td>\n",
       "      <td>surface</td>\n",
       "      <td>communal standpipe</td>\n",
       "      <td>functional</td>\n",
       "      <td>NaN</td>\n",
       "    </tr>\n",
       "  </tbody>\n",
       "</table>\n",
       "<p>5 rows × 27 columns</p>\n",
       "</div>"
      ],
      "text/plain": [
       "               funder  gps_height     installer  longitude   latitude  \\\n",
       "id                                                                      \n",
       "69572.0         Roman      1390.0         Roman  34.938093  -9.856322   \n",
       "8776.0        Grumeti      1399.0       GRUMETI  34.698766  -2.147466   \n",
       "34310.0  Lottery Club       686.0  World vision  37.460664  -3.821329   \n",
       "67743.0        Unicef       263.0        UNICEF  38.486161 -11.155298   \n",
       "19728.0   Action In A         NaN       Artisan  31.130847  -1.825359   \n",
       "\n",
       "                     wpt_name                    basin  subvillage   region  \\\n",
       "id                                                                            \n",
       "69572.0                  none               Lake Nyasa    Mnyusi B   Iringa   \n",
       "8776.0               Zahanati            Lake Victoria     Nyamara     Mara   \n",
       "34310.0           Kwa Mahundi                  Pangani     Majengo  Manyara   \n",
       "67743.0  Zahanati Ya Nanyumbu  Ruvuma / Southern Coast  Mahakamani   Mtwara   \n",
       "19728.0               Shuleni            Lake Victoria  Kyanyamisa   Kagera   \n",
       "\n",
       "         region_code  ...  management_group payment_type water_quality  \\\n",
       "id                    ...                                                \n",
       "69572.0           11  ...        user-group     annually          soft   \n",
       "8776.0            20  ...        user-group    never pay          soft   \n",
       "34310.0           21  ...        user-group   per bucket          soft   \n",
       "67743.0           90  ...        user-group    never pay          soft   \n",
       "19728.0           18  ...             other    never pay          soft   \n",
       "\n",
       "        quality_group      quantity           source_type source_class  \\\n",
       "id                                                                       \n",
       "69572.0          good        enough                spring  groundwater   \n",
       "8776.0           good  insufficient  rainwater harvesting      surface   \n",
       "34310.0          good        enough                   dam      surface   \n",
       "67743.0          good           dry              borehole  groundwater   \n",
       "19728.0          good      seasonal  rainwater harvesting      surface   \n",
       "\n",
       "                     waterpoint_type    status_group pump_age  \n",
       "id                                                             \n",
       "69572.0           communal standpipe      functional     12.0  \n",
       "8776.0            communal standpipe      functional      3.0  \n",
       "34310.0  communal standpipe multiple      functional      4.0  \n",
       "67743.0  communal standpipe multiple  non functional     27.0  \n",
       "19728.0           communal standpipe      functional      NaN  \n",
       "\n",
       "[5 rows x 27 columns]"
      ]
     },
     "execution_count": 9,
     "metadata": {},
     "output_type": "execute_result"
    }
   ],
   "source": [
    "# Read train_features.csv & train_labels.csv into single df\n",
    "train = wrangle(fm_path = DATA_PATH+'waterpumps/train_features.csv',\n",
    "                tv_path = DATA_PATH+'waterpumps/train_labels.csv')\n",
    "train.head()"
   ]
  },
  {
   "cell_type": "code",
   "execution_count": 40,
   "metadata": {},
   "outputs": [
    {
     "name": "stdout",
     "output_type": "stream",
     "text": [
      "<class 'pandas.core.frame.DataFrame'>\n",
      "Float64Index: 59399 entries, 69572.0 to 26348.0\n",
      "Data columns (total 27 columns):\n",
      " #   Column            Non-Null Count  Dtype  \n",
      "---  ------            --------------  -----  \n",
      " 0   funder            54987 non-null  object \n",
      " 1   gps_height        38962 non-null  float64\n",
      " 2   installer         54967 non-null  object \n",
      " 3   longitude         57587 non-null  float64\n",
      " 4   latitude          57587 non-null  float64\n",
      " 5   wpt_name          59399 non-null  object \n",
      " 6   basin             59399 non-null  object \n",
      " 7   subvillage        59028 non-null  object \n",
      " 8   region            59399 non-null  object \n",
      " 9   region_code       59399 non-null  int64  \n",
      " 10  district_code     59376 non-null  float64\n",
      " 11  lga               59399 non-null  object \n",
      " 12  ward              59399 non-null  object \n",
      " 13  public_meeting    56066 non-null  object \n",
      " 14  permit            56343 non-null  object \n",
      " 15  extraction_type   59399 non-null  object \n",
      " 16  management        59399 non-null  object \n",
      " 17  management_group  59399 non-null  object \n",
      " 18  payment_type      59399 non-null  object \n",
      " 19  water_quality     59399 non-null  object \n",
      " 20  quality_group     59399 non-null  object \n",
      " 21  quantity          59399 non-null  object \n",
      " 22  source_type       59399 non-null  object \n",
      " 23  source_class      59399 non-null  object \n",
      " 24  waterpoint_type   59399 non-null  object \n",
      " 25  status_group      59399 non-null  object \n",
      " 26  pump_age          38691 non-null  float64\n",
      "dtypes: float64(5), int64(1), object(21)\n",
      "memory usage: 12.7+ MB\n"
     ]
    }
   ],
   "source": [
    "train.info()"
   ]
  },
  {
   "cell_type": "markdown",
   "metadata": {},
   "source": [
    "## Split Data"
   ]
  },
  {
   "cell_type": "code",
   "execution_count": 10,
   "metadata": {},
   "outputs": [],
   "source": [
    "# Split data into feature matrix and target vector\n",
    "target = 'status_group'\n",
    "y_train = train[target]\n",
    "X_train = train.drop(columns = target)"
   ]
  },
  {
   "cell_type": "markdown",
   "metadata": {},
   "source": [
    "## Establish Baseline"
   ]
  },
  {
   "cell_type": "code",
   "execution_count": 11,
   "metadata": {},
   "outputs": [
    {
     "name": "stdout",
     "output_type": "stream",
     "text": [
      "Baseline Accuracy: 0.5430899510092763\n"
     ]
    }
   ],
   "source": [
    "print('Baseline Accuracy:', y_train.value_counts(normalize = True).max())"
   ]
  },
  {
   "cell_type": "markdown",
   "metadata": {},
   "source": [
    "## Build Model"
   ]
  },
  {
   "cell_type": "code",
   "execution_count": 46,
   "metadata": {},
   "outputs": [],
   "source": [
    "rf_model = make_pipeline(OrdinalEncoder(),\n",
    "                         SimpleImputer(),\n",
    "                         RandomForestClassifier(random_state = 42,\n",
    "                                                n_estimators = 277,\n",
    "                                                max_depth = 35,\n",
    "                                                max_samples = 0.5,\n",
    "                                                max_features = 4,\n",
    "                                                n_jobs = -1))\n",
    "\n",
    "rf_model.fit(X_train, y_train);"
   ]
  },
  {
   "cell_type": "markdown",
   "metadata": {},
   "source": [
    "**Check Scores**"
   ]
  },
  {
   "cell_type": "code",
   "execution_count": 47,
   "metadata": {},
   "outputs": [
    {
     "name": "stdout",
     "output_type": "stream",
     "text": [
      "CV score RandomForestClassifier\n",
      "[0.81557239 0.80892256 0.81321549 0.80875421 0.80697028]\n",
      "Mean CV accuracy score: 0.8106869860317121\n",
      "STD CV accuracy score: 0.0031913385315627905\n"
     ]
    }
   ],
   "source": [
    "cv_scores_rf = cross_val_score(rf_model, X_train, y_train, n_jobs = -1)\n",
    "\n",
    "print('CV score RandomForestClassifier')\n",
    "print(cv_scores_rf)\n",
    "print('Mean CV accuracy score:', cv_scores_rf.mean())\n",
    "print('STD CV accuracy score:', cv_scores_rf.std())"
   ]
  },
  {
   "cell_type": "markdown",
   "metadata": {},
   "source": [
    "## Tune Model"
   ]
  },
  {
   "cell_type": "code",
   "execution_count": 9,
   "metadata": {},
   "outputs": [
    {
     "name": "stdout",
     "output_type": "stream",
     "text": [
      "Fitting 5 folds for each of 64 candidates, totalling 320 fits\n"
     ]
    },
    {
     "data": {
      "text/plain": [
       "GridSearchCV(cv=5,\n",
       "             estimator=Pipeline(steps=[('ordinalencoder', OrdinalEncoder()),\n",
       "                                       ('simpleimputer', SimpleImputer()),\n",
       "                                       ('randomforestclassifier',\n",
       "                                        RandomForestClassifier(random_state=42))]),\n",
       "             n_jobs=-1,\n",
       "             param_grid={'randomforestclassifier__max_samples': array([0.2, 0.3, 0.4, 0.5, 0.6, 0.7, 0.8, 0.9]),\n",
       "                         'randomforestclassifier__n_estimators': range(25, 125, 25),\n",
       "                         'simpleimputer__strategy': ['mean', 'median']},\n",
       "             verbose=1)"
      ]
     },
     "execution_count": 9,
     "metadata": {},
     "output_type": "execute_result"
    }
   ],
   "source": [
    "# Setting up estimator\n",
    "estimator = make_pipeline(OrdinalEncoder(),\n",
    "                          SimpleImputer(),\n",
    "                          RandomForestClassifier(random_state = 42))\n",
    "\n",
    "# Want to find best simpleimputer strategy and best randomforestclassifier n_estimators & max_samples\n",
    "params = {'simpleimputer__strategy': ['mean', 'median'],\n",
    "          'randomforestclassifier__n_estimators': range(25, 125, 25),\n",
    "          'randomforestclassifier__max_samples': np.arange(0.2, 1, 0.1)}\n",
    "\n",
    "# Run GridSearchCV\n",
    "model_gs = GridSearchCV(estimator, \n",
    "                        param_grid = params,\n",
    "                        cv = 5,\n",
    "                        n_jobs = -1,\n",
    "                        verbose = 1)\n",
    "\n",
    "# Fit GridSearchCV to data\n",
    "model_gs.fit(X_train, y_train);"
   ]
  },
  {
   "cell_type": "code",
   "execution_count": 17,
   "metadata": {},
   "outputs": [
    {
     "data": {
      "text/plain": [
       "{'randomforestclassifier__max_samples': 0.5000000000000001,\n",
       " 'randomforestclassifier__n_estimators': 100,\n",
       " 'simpleimputer__strategy': 'mean'}"
      ]
     },
     "execution_count": 17,
     "metadata": {},
     "output_type": "execute_result"
    }
   ],
   "source": [
    "model_gs.best_params_"
   ]
  },
  {
   "cell_type": "code",
   "execution_count": 18,
   "metadata": {},
   "outputs": [
    {
     "data": {
      "text/plain": [
       "0.805922652174862"
      ]
     },
     "execution_count": 18,
     "metadata": {},
     "output_type": "execute_result"
    }
   ],
   "source": [
    "model_gs.best_score_"
   ]
  },
  {
   "cell_type": "code",
   "execution_count": 14,
   "metadata": {},
   "outputs": [
    {
     "name": "stdout",
     "output_type": "stream",
     "text": [
      "Fitting 5 folds for each of 14 candidates, totalling 70 fits\n"
     ]
    }
   ],
   "source": [
    "# Set up a second estimator, that now includes the best hyperparameters from previous estimator\n",
    "estimator2 = make_pipeline(OrdinalEncoder(),\n",
    "                          SimpleImputer(),\n",
    "                          RandomForestClassifier(random_state = 42,\n",
    "                                                 max_samples = 0.5))\n",
    "\n",
    "# Want to find best randomforestclassifier n_estimators\n",
    "params2 = {'randomforestclassifier__n_estimators': range(2, 350, 25)}\n",
    "\n",
    "# Run GridSearchCV\n",
    "model2_gs = GridSearchCV(estimator2, \n",
    "                        param_grid = params2,\n",
    "                        cv = 5,\n",
    "                        n_jobs = -1,\n",
    "                        verbose = 1)\n",
    "\n",
    "# Fit gridsearch to data\n",
    "model2_gs.fit(X_train, y_train);"
   ]
  },
  {
   "cell_type": "code",
   "execution_count": 19,
   "metadata": {},
   "outputs": [
    {
     "data": {
      "text/plain": [
       "{'randomforestclassifier__n_estimators': 277}"
      ]
     },
     "execution_count": 19,
     "metadata": {},
     "output_type": "execute_result"
    }
   ],
   "source": [
    "model2_gs.best_params_"
   ]
  },
  {
   "cell_type": "code",
   "execution_count": 20,
   "metadata": {
    "scrolled": true
   },
   "outputs": [
    {
     "data": {
      "text/plain": [
       "0.8068822353795836"
      ]
     },
     "execution_count": 20,
     "metadata": {},
     "output_type": "execute_result"
    }
   ],
   "source": [
    "model2_gs.best_score_"
   ]
  },
  {
   "cell_type": "markdown",
   "metadata": {},
   "source": [
    "**Keep tuning, but now using `RandomizedSearchCV`**"
   ]
  },
  {
   "cell_type": "code",
   "execution_count": 1,
   "metadata": {},
   "outputs": [
    {
     "ename": "NameError",
     "evalue": "name 'make_pipeline' is not defined",
     "output_type": "error",
     "traceback": [
      "\u001b[0;31m---------------------------------------------------------------------------\u001b[0m",
      "\u001b[0;31mNameError\u001b[0m                                 Traceback (most recent call last)",
      "\u001b[0;32m<ipython-input-1-28c13a870b49>\u001b[0m in \u001b[0;36m<module>\u001b[0;34m\u001b[0m\n\u001b[1;32m      1\u001b[0m \u001b[0;31m# Set up a third estimator, that now includes the best hyperparameters from previous estimators\u001b[0m\u001b[0;34m\u001b[0m\u001b[0;34m\u001b[0m\u001b[0;34m\u001b[0m\u001b[0m\n\u001b[0;32m----> 2\u001b[0;31m estimator3 = make_pipeline(OrdinalEncoder(),\n\u001b[0m\u001b[1;32m      3\u001b[0m                           \u001b[0mSimpleImputer\u001b[0m\u001b[0;34m(\u001b[0m\u001b[0;34m)\u001b[0m\u001b[0;34m,\u001b[0m\u001b[0;34m\u001b[0m\u001b[0;34m\u001b[0m\u001b[0m\n\u001b[1;32m      4\u001b[0m                           RandomForestClassifier(random_state = 42,\n\u001b[1;32m      5\u001b[0m                                                  \u001b[0mmax_samples\u001b[0m \u001b[0;34m=\u001b[0m \u001b[0;36m0.5\u001b[0m\u001b[0;34m,\u001b[0m\u001b[0;34m\u001b[0m\u001b[0;34m\u001b[0m\u001b[0m\n",
      "\u001b[0;31mNameError\u001b[0m: name 'make_pipeline' is not defined"
     ]
    }
   ],
   "source": [
    "# Set up a third estimator, that now includes the best hyperparameters from previous estimators\n",
    "estimator3 = make_pipeline(OrdinalEncoder(),\n",
    "                          SimpleImputer(),\n",
    "                          RandomForestClassifier(random_state = 42,\n",
    "                                                 max_samples = 0.5,\n",
    "                                                 n_estimators = 277))\n",
    "\n",
    "# Want to find best randomforestclassifier max_features\n",
    "params3 = {'randomforestclassifier__max_features': range(2, 32, 2)}\n",
    "\n",
    "# Run RandomizedSearchCV\n",
    "model3_rs = RandomizedSearchCV(estimator3, \n",
    "                               param_distributions = params3,\n",
    "                               n_iter = 5,\n",
    "                               cv = 5,\n",
    "                               n_jobs = -1,\n",
    "                               verbose = 1)\n",
    "\n",
    "# Fit randomizedsearch to data\n",
    "model3_rs.fit(X_train, y_train);"
   ]
  },
  {
   "cell_type": "code",
   "execution_count": 28,
   "metadata": {},
   "outputs": [
    {
     "data": {
      "text/plain": [
       "{'randomforestclassifier__max_features': 4}"
      ]
     },
     "execution_count": 28,
     "metadata": {},
     "output_type": "execute_result"
    }
   ],
   "source": [
    "model3_rs.best_params_"
   ]
  },
  {
   "cell_type": "code",
   "execution_count": 30,
   "metadata": {
    "scrolled": true
   },
   "outputs": [
    {
     "data": {
      "text/plain": [
       "0.8070169353551794"
      ]
     },
     "execution_count": 30,
     "metadata": {},
     "output_type": "execute_result"
    }
   ],
   "source": [
    "model3_rs.best_score_"
   ]
  },
  {
   "cell_type": "code",
   "execution_count": 43,
   "metadata": {},
   "outputs": [
    {
     "name": "stdout",
     "output_type": "stream",
     "text": [
      "Fitting 5 folds for each of 5 candidates, totalling 25 fits\n"
     ]
    }
   ],
   "source": [
    "# Set up a fourth estimator, that now includes the best hyperparameters from previous estimators\n",
    "estimator3 = make_pipeline(OrdinalEncoder(),\n",
    "                          SimpleImputer(),\n",
    "                          RandomForestClassifier(random_state = 42,\n",
    "                                                 max_samples = 0.5,\n",
    "                                                 n_estimators = 277))\n",
    "\n",
    "# Want to find best randomforestclassifier min_samples_split\n",
    "params4 = {'randomforestclassifier__max_depth': range(10, 45, 5)}\n",
    "\n",
    "# Run RandomizedSearchCV\n",
    "model4_rs = RandomizedSearchCV(estimator3, \n",
    "                               param_distributions = params4,\n",
    "                               n_iter = 5,\n",
    "                               cv = 5,\n",
    "                               n_jobs = -1,\n",
    "                               verbose = 1)\n",
    "\n",
    "# Fit randomizedsearch to data\n",
    "model4_rs.fit(X_train, y_train);"
   ]
  },
  {
   "cell_type": "code",
   "execution_count": 44,
   "metadata": {},
   "outputs": [
    {
     "data": {
      "text/plain": [
       "{'randomforestclassifier__max_depth': 35}"
      ]
     },
     "execution_count": 44,
     "metadata": {},
     "output_type": "execute_result"
    }
   ],
   "source": [
    "model4_rs.best_params_"
   ]
  },
  {
   "cell_type": "code",
   "execution_count": 45,
   "metadata": {},
   "outputs": [
    {
     "data": {
      "text/plain": [
       "0.8072694549388716"
      ]
     },
     "execution_count": 45,
     "metadata": {},
     "output_type": "execute_result"
    }
   ],
   "source": [
    "model4_rs.best_score_"
   ]
  },
  {
   "cell_type": "markdown",
   "metadata": {},
   "source": [
    "## Make Submission"
   ]
  },
  {
   "cell_type": "code",
   "execution_count": 49,
   "metadata": {},
   "outputs": [],
   "source": [
    "# Read test_features.csv \n",
    "test = wrangle(DATA_PATH+'waterpumps/test_features.csv')\n",
    "\n",
    "# Make predictions on test data\n",
    "y_pred = rf_model.predict(test)\n",
    "\n",
    "# Put predictions in necessary format for submission to Kaggle\n",
    "submission = pd.DataFrame({'status_group':y_pred}, index = test.index)\n",
    "\n",
    "# Save csv with predictions in proper format\n",
    "submission.to_csv('02_17_2021_submission.csv')"
   ]
  },
  {
   "cell_type": "markdown",
   "metadata": {},
   "source": [
    "## Communicate Results"
   ]
  },
  {
   "cell_type": "code",
   "execution_count": 50,
   "metadata": {},
   "outputs": [
    {
     "data": {
      "image/png": "[encoded data removed]",
      "text/plain": [
       "<Figure size 432x288 with 1 Axes>"
      ]
     },
     "metadata": {
      "needs_background": "light"
     },
     "output_type": "display_data"
    }
   ],
   "source": [
    "# Get importance of each feature\n",
    "importances = rf_model.named_steps['randomforestclassifier'].feature_importances_\n",
    "\n",
    "# Get names of each feature\n",
    "features = X_train.columns\n",
    "\n",
    "# Make a series that combines the importance features and their names\n",
    "feat_imp = pd.Series(importances, index = features).sort_values()\n",
    "\n",
    "# Visualize the importances\n",
    "feat_imp.tail(10).plot(kind = 'barh')\n",
    "plt.xlabel('Gini importance');"
   ]
  }
 ],
 "metadata": {
  "kernelspec": {
   "display_name": "unit2kagenv",
   "language": "python",
   "name": "unit2kagenv"
  },
  "language_info": {
   "codemirror_mode": {
    "name": "ipython",
    "version": 3
   },
   "file_extension": ".py",
   "mimetype": "text/x-python",
   "name": "python",
   "nbconvert_exporter": "python",
   "pygments_lexer": "ipython3",
   "version": "3.8.6"
  }
 },
 "nbformat": 4,
 "nbformat_minor": 2
}
