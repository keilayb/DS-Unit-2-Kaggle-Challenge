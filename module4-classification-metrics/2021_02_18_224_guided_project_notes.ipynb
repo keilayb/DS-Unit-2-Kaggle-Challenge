{
  "nbformat": 4,
  "nbformat_minor": 0,
  "metadata": {
    "kernelspec": {
      "display_name": "Python 3",
      "language": "python",
      "name": "python3"
    },
    "language_info": {
      "codemirror_mode": {
        "name": "ipython",
        "version": 3
      },
      "file_extension": ".py",
      "mimetype": "text/x-python",
      "name": "python",
      "nbconvert_exporter": "python",
      "pygments_lexer": "ipython3",
      "version": "3.7.3"
    },
    "colab": {
      "name": "2021_02_18_224_guided_project_notes.ipynb",
      "provenance": [],
      "collapsed_sections": []
    }
  },
  "cells": [
    {
      "cell_type": "markdown",
      "metadata": {
        "id": "EZyiOteN16cD"
      },
      "source": [
        "Lambda School Data Science\n",
        "\n",
        "*Unit 2, Sprint 2, Module 4*\n",
        "\n",
        "---"
      ]
    },
    {
      "cell_type": "markdown",
      "metadata": {
        "id": "KMI2k-oBsS08"
      },
      "source": [
        "# Classification Metrics\n",
        "\n",
        "- get and interpret the **confusion matrix** for classification models\n",
        "- use classification metrics: **precision, recall**\n",
        "- understand the relationships between precision, recall, **thresholds, and predicted probabilities**, to help **make decisions and allocate budgets**"
      ]
    },
    {
      "cell_type": "code",
      "metadata": {
        "id": "OpFoag9QoTgA"
      },
      "source": [
        "%%capture\n",
        "import sys\n",
        "\n",
        "# If you're on Colab:\n",
        "if 'google.colab' in sys.modules:\n",
        "    DATA_PATH = 'https://raw.githubusercontent.com/LambdaSchool/DS-Unit-2-Kaggle-Challenge/master/data/'\n",
        "    !pip install category_encoders==2.*\n",
        "\n",
        "# If you're working locally:\n",
        "else:\n",
        "    DATA_PATH = '/Users/keila/Documents/Lambda/Units_Git/DS-Unit-2-Kaggle-Challenge/data/'"
      ],
      "execution_count": 1,
      "outputs": []
    },
    {
      "cell_type": "code",
      "metadata": {
        "id": "z03W-t5_B8TY",
        "colab": {
          "base_uri": "https://localhost:8080/"
        },
        "outputId": "0017c6a9-dd3d-48ad-b2ce-db1d1d38c8d1"
      },
      "source": [
        "from category_encoders import OneHotEncoder, OrdinalEncoder\n",
        "from sklearn.ensemble import RandomForestClassifier\n",
        "from sklearn.impute import SimpleImputer\n",
        "from sklearn.linear_model import LogisticRegression\n",
        "from sklearn.metrics import accuracy_score, plot_confusion_matrix, classification_report\n",
        "from sklearn.model_selection import train_test_split\n",
        "from sklearn.pipeline import make_pipeline\n",
        "from sklearn.preprocessing import StandardScaler\n",
        "import numpy as np\n",
        "import pandas as pd"
      ],
      "execution_count": 2,
      "outputs": [
        {
          "output_type": "stream",
          "text": [
            "/usr/local/lib/python3.6/dist-packages/statsmodels/tools/_testing.py:19: FutureWarning: pandas.util.testing is deprecated. Use the functions in the public API at pandas.testing instead.\n",
            "  import pandas.util.testing as tm\n"
          ],
          "name": "stderr"
        }
      ]
    },
    {
      "cell_type": "markdown",
      "metadata": {
        "id": "EfhziD2Wn_iO"
      },
      "source": [
        "# I. Wrangle Data"
      ]
    },
    {
      "cell_type": "code",
      "metadata": {
        "id": "uYjLLI4ag_Bc"
      },
      "source": [
        "def wrangle(fm_path, tv_path=None):\n",
        "  # Import CSV files\n",
        "  if tv_path:\n",
        "    df = pd.merge(pd.read_csv(fm_path, \n",
        "                              na_values=[0, -2.000000e-08],\n",
        "                              parse_dates=['construction_year', 'date_recorded']), \n",
        "                  pd.read_csv(tv_path)).set_index('id')\n",
        "\n",
        "    # Add new binary target\n",
        "    df['needs_repair'] = (df['status_group'] != 'functional').astype(int)\n",
        "    \n",
        "    # Drop old target\n",
        "    df.drop(columns='status_group', inplace=True)\n",
        "  else:\n",
        "    df = pd.read_csv(fm_path, na_values=[0, -2.000000e-08],\n",
        "                     parse_dates=['construction_year', 'date_recorded']).set_index('id')\n",
        "\n",
        "  # Feature engineering (Credit: Mena and Keila)\n",
        "  df['pump_age'] = df['date_recorded'].dt.year - df['construction_year'].dt.year\n",
        "\n",
        "  # Drop constant and repeated columns\n",
        "  df.drop(columns=['recorded_by', 'extraction_type_group', 'quantity_group',\n",
        "                   'construction_year', 'date_recorded'], \n",
        "          inplace=True)\n",
        "  \n",
        "  # Drop columns with high % of NaN values\n",
        "  df.dropna(axis=1, thresh=len(df)*.6, inplace=True)\n",
        "\n",
        "  return df\n",
        "\n",
        "df = wrangle(fm_path=DATA_PATH+'waterpumps/train_features.csv',\n",
        "             tv_path=DATA_PATH+'waterpumps/train_labels.csv')\n",
        "\n",
        "X_test = wrangle(fm_path=DATA_PATH+'waterpumps/test_features.csv')"
      ],
      "execution_count": 26,
      "outputs": []
    },
    {
      "cell_type": "markdown",
      "metadata": {
        "id": "Ni2SLySrZ5ZB"
      },
      "source": [
        "## EDA\n",
        "\n",
        "- How can we transform our target so that this is a **binary classification** problem?"
      ]
    },
    {
      "cell_type": "code",
      "metadata": {
        "id": "kDts-arRETta",
        "colab": {
          "base_uri": "https://localhost:8080/"
        },
        "outputId": "d82ef14a-5a96-4f13-c672-25c658d0f371"
      },
      "source": [
        "# df['status_group'].value_counts()"
      ],
      "execution_count": 9,
      "outputs": [
        {
          "output_type": "execute_result",
          "data": {
            "text/plain": [
              "functional                 32259\n",
              "non functional             22823\n",
              "functional needs repair     4317\n",
              "Name: status_group, dtype: int64"
            ]
          },
          "metadata": {
            "tags": []
          },
          "execution_count": 9
        }
      ]
    },
    {
      "cell_type": "markdown",
      "metadata": {
        "id": "RtwEFgWTKOTk"
      },
      "source": [
        "`.str.replace()` (Nathan)"
      ]
    },
    {
      "cell_type": "code",
      "metadata": {
        "id": "0Sv5C1n1KSAS"
      },
      "source": [
        "# df['needs_repair'] = df['status_group'].replace(['functional','non functional','functional needs repair'],['0','1','1']).astype(int)"
      ],
      "execution_count": null,
      "outputs": []
    },
    {
      "cell_type": "markdown",
      "metadata": {
        "id": "Vl3eJSoCKUFD"
      },
      "source": [
        "Logical operator (Jack)"
      ]
    },
    {
      "cell_type": "code",
      "metadata": {
        "id": "mIq_xBUgKGQf"
      },
      "source": [
        "# df['needs_repair'] = (df['status_group'] != 'functional').astype(int)"
      ],
      "execution_count": 10,
      "outputs": []
    },
    {
      "cell_type": "markdown",
      "metadata": {
        "id": "dd3R4DDqg-Zc"
      },
      "source": [
        "# II. Split Data"
      ]
    },
    {
      "cell_type": "code",
      "metadata": {
        "id": "KJptRukxgzjH"
      },
      "source": [
        "# Split TV / FM\n",
        "target = 'needs_repair'\n",
        "y = df[target]\n",
        "X = df.drop(columns=target)\n",
        "\n",
        "# Train-val split\n",
        "X_train, X_val, y_train, y_val = train_test_split(X, y, test_size=0.2, random_state=42)\n",
        "\n",
        "# Sanity check\n",
        "assert len(X_train) + len(X_val) == len(X)"
      ],
      "execution_count": 27,
      "outputs": []
    },
    {
      "cell_type": "markdown",
      "metadata": {
        "id": "u2-vAPn3hHUc"
      },
      "source": [
        "# Baseline"
      ]
    },
    {
      "cell_type": "code",
      "metadata": {
        "id": "WKceqLphhGoJ",
        "colab": {
          "base_uri": "https://localhost:8080/"
        },
        "outputId": "ac526c63-8f7e-4269-f045-741a8ede1e75"
      },
      "source": [
        "print('Baseline Accuracy:', y_train.value_counts(normalize=True).max())"
      ],
      "execution_count": 28,
      "outputs": [
        {
          "output_type": "stream",
          "text": [
            "Baseline Accuracy: 0.5425829668132747\n"
          ],
          "name": "stdout"
        }
      ]
    },
    {
      "cell_type": "markdown",
      "metadata": {
        "id": "fK1_Gn61hJYd"
      },
      "source": [
        "# Build Model\n",
        "\n",
        "- `OrdinalEncoder`\n",
        "- `SimpleImputer`\n",
        "- `RandomForestClassifier`"
      ]
    },
    {
      "cell_type": "code",
      "metadata": {
        "id": "_Vv-xj1pgwg6"
      },
      "source": [
        "model = make_pipeline(\n",
        "    OrdinalEncoder(),\n",
        "    SimpleImputer(),\n",
        "    RandomForestClassifier(n_estimators=50,\n",
        "                           n_jobs=-1,\n",
        "                           random_state=42)\n",
        ")\n",
        "\n",
        "model.fit(X_train, y_train);"
      ],
      "execution_count": 29,
      "outputs": []
    },
    {
      "cell_type": "markdown",
      "metadata": {
        "id": "8vM1rgtDzq2y"
      },
      "source": [
        "# Interlude: Beware or Leakage\n",
        "\n",
        "If you leave `'status_group'` in your feature matrix, you'll have **leakage**. "
      ]
    },
    {
      "cell_type": "code",
      "metadata": {
        "colab": {
          "base_uri": "https://localhost:8080/",
          "height": 282
        },
        "id": "3pMVIUKjEau1",
        "outputId": "702c20a5-ce8c-4ed6-a409-193bb1286b29"
      },
      "source": [
        "importances = model.named_steps['randomforestclassifier'].feature_importances_\n",
        "features = X_train.columns\n",
        "pd.Series(importances, index=features).sort_values().tail(10).plot(kind='barh')"
      ],
      "execution_count": 31,
      "outputs": [
        {
          "output_type": "execute_result",
          "data": {
            "text/plain": [
              "<matplotlib.axes._subplots.AxesSubplot at 0x7f9f55e00cf8>"
            ]
          },
          "metadata": {
            "tags": []
          },
          "execution_count": 31
        },
        {
          "output_type": "display_data",
          "data": {
            "image/png": "[encoded data removed]",
            "text/plain": [
              "<Figure size 432x288 with 1 Axes>"
            ]
          },
          "metadata": {
            "tags": [],
            "needs_background": "light"
          }
        }
      ]
    },
    {
      "cell_type": "markdown",
      "metadata": {
        "id": "DMwEt1k474xc"
      },
      "source": [
        "# Check Metrics"
      ]
    },
    {
      "cell_type": "markdown",
      "metadata": {
        "id": "judyBmufjFMO"
      },
      "source": [
        "**Accuracy**"
      ]
    },
    {
      "cell_type": "code",
      "metadata": {
        "id": "dYfiyggjjHJc",
        "colab": {
          "base_uri": "https://localhost:8080/"
        },
        "outputId": "4657d20c-0ac5-460b-b168-9ee16b5a946e"
      },
      "source": [
        "print('Training Accuracy:', model.score(X_train, y_train))\n",
        "print('Validation Accuracy:', model.score(X_val, y_val))"
      ],
      "execution_count": 30,
      "outputs": [
        {
          "output_type": "stream",
          "text": [
            "Training Accuracy: 0.9994528504387719\n",
            "Validation Accuracy: 0.818939393939394\n"
          ],
          "name": "stdout"
        }
      ]
    },
    {
      "cell_type": "markdown",
      "metadata": {
        "id": "AYl61hLojcoI"
      },
      "source": [
        "**Confusion Matrix**"
      ]
    },
    {
      "cell_type": "code",
      "metadata": {
        "colab": {
          "base_uri": "https://localhost:8080/",
          "height": 279
        },
        "id": "C7Dg8sP5EdNM",
        "outputId": "f6ebbf01-3807-45f4-a7d4-83ff0877fad5"
      },
      "source": [
        "plot_confusion_matrix(\n",
        "    model,\n",
        "    X_val, # BE SURE TO USE VALIDATION DATA\n",
        "    y_val,\n",
        "    values_format='.0f',\n",
        "    display_labels=['no repair needed', 'needs repair']\n",
        ");"
      ],
      "execution_count": 32,
      "outputs": [
        {
          "output_type": "display_data",
          "data": {
            "image/png": "[encoded data removed]",
            "text/plain": [
              "<Figure size 432x288 with 2 Axes>"
            ]
          },
          "metadata": {
            "tags": [],
            "needs_background": "light"
          }
        }
      ]
    },
    {
      "cell_type": "markdown",
      "metadata": {
        "id": "K7LCntg4r3Dx"
      },
      "source": [
        "**Recall:** Of those pumps that actually needed repair, what proportion did you correctly predict as needing repair?\n",
        "- \"Catching them all\"\n",
        "- AKA sensitivity\n",
        "- What proportion of true positives were labeled as positive by model?\n",
        "- Side to side"
      ]
    },
    {
      "cell_type": "code",
      "metadata": {
        "colab": {
          "base_uri": "https://localhost:8080/"
        },
        "id": "uf6Lx4D8EfA3",
        "outputId": "c77e16c7-7c80-4905-bf5e-61f5cb544462"
      },
      "source": [
        "4120 / (1284 + 4120)"
      ],
      "execution_count": 33,
      "outputs": [
        {
          "output_type": "execute_result",
          "data": {
            "text/plain": [
              "0.7623982235381199"
            ]
          },
          "metadata": {
            "tags": []
          },
          "execution_count": 33
        }
      ]
    },
    {
      "cell_type": "markdown",
      "metadata": {
        "id": "p-1W_YipqZRU"
      },
      "source": [
        "**Precision:** Of all the pumps that you predicted as needing repair, what proportion actually needed repair?\n",
        "- What proportion of those labeled as positive are actually positive?\n",
        "- Up and down"
      ]
    },
    {
      "cell_type": "code",
      "metadata": {
        "colab": {
          "base_uri": "https://localhost:8080/"
        },
        "id": "73k4ji2yEgKh",
        "outputId": "6b22ffcd-f14b-440a-c44a-e01e29e5a924"
      },
      "source": [
        "4120 / (4120 + 867)"
      ],
      "execution_count": null,
      "outputs": [
        {
          "output_type": "execute_result",
          "data": {
            "text/plain": [
              "0.826147984760377"
            ]
          },
          "metadata": {
            "tags": []
          },
          "execution_count": 42
        }
      ]
    },
    {
      "cell_type": "markdown",
      "metadata": {
        "id": "dlUIxr6Qsyto"
      },
      "source": [
        "**Classification Report**"
      ]
    },
    {
      "cell_type": "code",
      "metadata": {
        "colab": {
          "base_uri": "https://localhost:8080/"
        },
        "id": "HOy7wDJlEhnV",
        "outputId": "90471249-2830-44fb-e1df-2d238d0d476f"
      },
      "source": [
        "print(classification_report(y_val,\n",
        "                            model.predict(X_val),\n",
        "                            target_names=['no repair needed', 'needs repair']))"
      ],
      "execution_count": 34,
      "outputs": [
        {
          "output_type": "stream",
          "text": [
            "                  precision    recall  f1-score   support\n",
            "\n",
            "no repair needed       0.81      0.87      0.84      6476\n",
            "    needs repair       0.83      0.76      0.79      5404\n",
            "\n",
            "        accuracy                           0.82     11880\n",
            "       macro avg       0.82      0.81      0.82     11880\n",
            "    weighted avg       0.82      0.82      0.82     11880\n",
            "\n"
          ],
          "name": "stdout"
        }
      ]
    },
    {
      "cell_type": "code",
      "metadata": {
        "colab": {
          "base_uri": "https://localhost:8080/"
        },
        "id": "_8Qs6yqDZM-Z",
        "outputId": "62fbca6a-857d-4677-f9da-68026168e1f7"
      },
      "source": [
        "model.predict_proba(X_val)"
      ],
      "execution_count": 35,
      "outputs": [
        {
          "output_type": "execute_result",
          "data": {
            "text/plain": [
              "array([[0.  , 1.  ],\n",
              "       [0.64, 0.36],\n",
              "       [0.86, 0.14],\n",
              "       ...,\n",
              "       [0.9 , 0.1 ],\n",
              "       [0.44, 0.56],\n",
              "       [0.48, 0.52]])"
            ]
          },
          "metadata": {
            "tags": []
          },
          "execution_count": 35
        }
      ]
    },
    {
      "cell_type": "markdown",
      "metadata": {
        "id": "0V4S27TPWOjf"
      },
      "source": [
        "In the array above, the first column is probability of getting 0, and the second column is probability of getting 1."
      ]
    },
    {
      "cell_type": "markdown",
      "metadata": {
        "id": "gY651G8UTz14"
      },
      "source": [
        "# Case Study\n",
        "\n",
        "Let's say that is costs the Tanzanian government $100 to inspect a water pump, and there is only funding for 2000 pump inspections. "
      ]
    },
    {
      "cell_type": "code",
      "metadata": {
        "id": "gKkPlg2CT_Ij"
      },
      "source": [
        "n_inspections = 2000"
      ],
      "execution_count": 36,
      "outputs": []
    },
    {
      "cell_type": "markdown",
      "metadata": {
        "id": "NCEOYhXLT6jU"
      },
      "source": [
        "Scenario 1: Choose pumps randomly"
      ]
    },
    {
      "cell_type": "code",
      "metadata": {
        "colab": {
          "base_uri": "https://localhost:8080/"
        },
        "id": "QX4MMEIxEkBg",
        "outputId": "8be5f02b-33c9-459a-ba00-130dfe6030e8"
      },
      "source": [
        "repair_prob = y_val.value_counts(normalize=True).min()\n",
        "print('Inspections conducted:', n_inspections)\n",
        "print('Pumps repaired:', round(n_inspections * repair_prob))\n",
        "print('Funds wasted:', round(n_inspections * (1-repair_prob) * 100))"
      ],
      "execution_count": 37,
      "outputs": [
        {
          "output_type": "stream",
          "text": [
            "Inspections conducted: 2000\n",
            "Pumps repaired: 910\n",
            "Funds wasted: 109024\n"
          ],
          "name": "stdout"
        }
      ]
    },
    {
      "cell_type": "markdown",
      "metadata": {
        "id": "T1JrG_BEUgCd"
      },
      "source": [
        "Scenario 2: Using our model \"out of the box\""
      ]
    },
    {
      "cell_type": "code",
      "metadata": {
        "colab": {
          "base_uri": "https://localhost:8080/"
        },
        "id": "PV1q-c7HElDE",
        "outputId": "8e5d6840-8461-4173-b95b-b7160e8d1354"
      },
      "source": [
        "# Put true values and predictions into DataFrame\n",
        "data = {'y_val': y_val,\n",
        "        'y_pred': model.predict(X_val)}\n",
        "results = pd.DataFrame(data)\n",
        "\n",
        "# Make sample with size of inspections, to see how much funds are wasted according to model\n",
        "mask = results['y_pred'] == 1\n",
        "sample = results[mask].sample(n_inspections)\n",
        "\n",
        "print('Inspections conducted:', n_inspections)\n",
        "print('Pumps repaired:', sample['y_val'].sum())\n",
        "print('Funds wasted:', round((n_inspections - sample['y_val'].sum()) * 100))"
      ],
      "execution_count": 38,
      "outputs": [
        {
          "output_type": "stream",
          "text": [
            "Inspections conducted: 2000\n",
            "Pumps repaired: 1611\n",
            "Funds wasted: 38900\n"
          ],
          "name": "stdout"
        }
      ]
    },
    {
      "cell_type": "markdown",
      "metadata": {
        "id": "Sj_80wEQb3N1"
      },
      "source": [
        "Scenario 3: We empasize **precision** in our model, and only select pumps that our model is very certain (`>0.9`) need repair."
      ]
    },
    {
      "cell_type": "code",
      "metadata": {
        "colab": {
          "base_uri": "https://localhost:8080/"
        },
        "id": "yB4jG29FEmUz",
        "outputId": "0994c01f-7d25-41dc-fd40-f439715c9f3d"
      },
      "source": [
        "data = {'y_val': y_val,\n",
        "        'y_pred_proba': model.predict_proba(X_val)[:, 1]}\n",
        "results = pd.DataFrame(data)\n",
        "\n",
        "threshold = 0.85\n",
        "mask = results['y_pred_proba'] > threshold\n",
        "sample = results[mask].sample(n_inspections)\n",
        "\n",
        "print('Inspections conducted:', n_inspections)\n",
        "print('Pumps repaired:', sample['y_val'].sum())\n",
        "print('Funds wasted:', round((n_inspections - sample['y_val'].sum()) * 100))"
      ],
      "execution_count": 40,
      "outputs": [
        {
          "output_type": "stream",
          "text": [
            "Inspections conducted: 2000\n",
            "Pumps repaired: 1941\n",
            "Funds wasted: 5900\n"
          ],
          "name": "stdout"
        }
      ]
    },
    {
      "cell_type": "code",
      "metadata": {
        "id": "GGdouJZQeA0p"
      },
      "source": [
        ""
      ],
      "execution_count": null,
      "outputs": []
    }
  ]
}