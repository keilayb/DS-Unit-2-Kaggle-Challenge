{
 "cells": [
  {
   "cell_type": "markdown",
   "metadata": {},
   "source": [
    "Lambda School Data Science\n",
    "\n",
    "*Unit 2, Sprint 2, Module 4*\n",
    "\n",
    "---"
   ]
  },
  {
   "cell_type": "markdown",
   "metadata": {
    "colab_type": "text",
    "id": "nCc3XZEyG3XV"
   },
   "source": [
    "# Classification Metrics\n",
    "\n",
    "## Assignment\n",
    "- [x] If you haven't yet, [review requirements for your portfolio project](https://lambdaschool.github.io/ds/unit2), then submit your dataset.\n",
    "- [ ] Plot a confusion matrix for your Tanzania Waterpumps model.\n",
    "- [ ] Continue to participate in our Kaggle challenge. Every student should have made at least one submission that scores at least 70% accuracy (well above the majority class baseline).\n",
    "- [ ] Submit your final predictions to our Kaggle competition. Optionally, go to **My Submissions**, and _\"you may select up to 1 submission to be used to count towards your final leaderboard score.\"_\n",
    "- [ ] Commit your notebook to your fork of the GitHub repo.\n",
    "- [ ] Read [Maximizing Scarce Maintenance Resources with Data: Applying predictive modeling, precision at k, and clustering to optimize impact](http://archive.is/DelgE), by Lambda DS3 student Michael Brady. His blog post extends the Tanzania Waterpumps scenario, far beyond what's in the lecture notebook.\n",
    "\n",
    "\n",
    "## Stretch Goals\n",
    "\n",
    "### Reading\n",
    "\n",
    "- [Attacking discrimination with smarter machine learning](https://research.google.com/bigpicture/attacking-discrimination-in-ml/), by Google Research, with  interactive visualizations. _\"A threshold classifier essentially makes a yes/no decision, putting things in one category or another. We look at how these classifiers work, ways they can potentially be unfair, and how you might turn an unfair classifier into a fairer one. As an illustrative example, we focus on loan granting scenarios where a bank may grant or deny a loan based on a single, automatically computed number such as a credit score.\"_\n",
    "- [Notebook about how to calculate expected value from a confusion matrix by treating it as a cost-benefit matrix](https://github.com/podopie/DAT18NYC/blob/master/classes/13-expected_value_cost_benefit_analysis.ipynb)\n",
    "- [Visualizing Machine Learning Thresholds to Make Better Business Decisions](https://blog.insightdatascience.com/visualizing-machine-learning-thresholds-to-make-better-business-decisions-4ab07f823415)\n",
    "\n",
    "\n",
    "### Doing\n",
    "- [ ] Share visualizations in our Slack channel!\n",
    "- [ ] RandomizedSearchCV / GridSearchCV, for model selection. (See module 3 assignment notebook)\n",
    "- [ ] Stacking Ensemble. (See module 3 assignment notebook)\n",
    "- [ ] More Categorical Encoding. (See module 2 assignment notebook)"
   ]
  },
  {
   "cell_type": "code",
   "execution_count": 1,
   "metadata": {
    "colab": {},
    "colab_type": "code",
    "id": "lsbRiKBoB5RE"
   },
   "outputs": [],
   "source": [
    "%%capture\n",
    "import sys\n",
    "\n",
    "# If you're on Colab:\n",
    "if 'google.colab' in sys.modules:\n",
    "    DATA_PATH = 'https://raw.githubusercontent.com/LambdaSchool/DS-Unit-2-Kaggle-Challenge/master/data/'\n",
    "    !pip install category_encoders==2.*\n",
    "\n",
    "# If you're working locally:\n",
    "else:\n",
    "    DATA_PATH = '/Users/keila/Documents/Lambda/Units_Git/DS-Unit-2-Kaggle-Challenge/data/'"
   ]
  },
  {
   "cell_type": "code",
   "execution_count": 2,
   "metadata": {},
   "outputs": [],
   "source": [
    "from category_encoders import OneHotEncoder, OrdinalEncoder\n",
    "from sklearn.ensemble import RandomForestClassifier\n",
    "from sklearn.impute import SimpleImputer\n",
    "from sklearn.linear_model import LogisticRegression\n",
    "from sklearn.metrics import accuracy_score, plot_confusion_matrix, classification_report\n",
    "from sklearn.model_selection import train_test_split\n",
    "from sklearn.pipeline import make_pipeline\n",
    "from sklearn.preprocessing import StandardScaler\n",
    "from sklearn.model_selection import cross_val_score\n",
    "from sklearn.model_selection import GridSearchCV, RandomizedSearchCV\n",
    "\n",
    "import matplotlib.pyplot as plt\n",
    "\n",
    "import numpy as np\n",
    "import pandas as pd"
   ]
  },
  {
   "cell_type": "markdown",
   "metadata": {},
   "source": [
    "# For Assignment"
   ]
  },
  {
   "cell_type": "markdown",
   "metadata": {},
   "source": [
    "## Wrangle Data"
   ]
  },
  {
   "cell_type": "code",
   "execution_count": 44,
   "metadata": {},
   "outputs": [],
   "source": [
    "def wrangle(fm_path, tv_path = None):\n",
    "    # Import CSV files\n",
    "    if tv_path:\n",
    "        df = pd.merge(pd.read_csv(fm_path, \n",
    "                                   na_values = [0, -2.000000e-08],\n",
    "                                   parse_dates = ['construction_year', 'date_recorded']),\n",
    "                       pd.read_csv(tv_path)).set_index('id')\n",
    "       \n",
    "        # Add new binary target\n",
    "        df['needs_repair'] = (df['status_group'] != 'functional').astype(int)\n",
    "    \n",
    "        # Drop old target\n",
    "        df.drop(columns='status_group', inplace=True)\n",
    "        \n",
    "    else:\n",
    "        df = pd.read_csv(fm_path, na_values=[0, -2.000000e-08], \n",
    "                     parse_dates = ['construction_year', 'date_recorded']).set_index('id')\n",
    "    \n",
    "    # Feature engineering (Credit: Mena)\n",
    "    df['pump_age'] = df['date_recorded'].dt.year - df['construction_year'].dt.year\n",
    "    \n",
    "    # Drop constant and repeated columns\n",
    "    df.drop(columns = ['recorded_by', 'extraction_type_group', 'extraction_type_class',\n",
    "                       'quantity_group','date_recorded', 'construction_year', 'payment',\n",
    "                       'source', 'waterpoint_type_group', 'scheme_management'], \n",
    "            inplace=True)\n",
    "    \n",
    "    # Drop columns with high % of NaN values\n",
    "    df.dropna(axis = 1, thresh = len(df) * 0.65, inplace = True)\n",
    "    \n",
    "    # Columns where zeroes should be null values (Credit: Samuel E)\n",
    "    cols_w_0s = ['longitude', 'latitude', 'gps_height']\n",
    "    for col in cols_w_0s:\n",
    "        df[col] = df[col].replace(0, np.nan)\n",
    "    \n",
    "    return df"
   ]
  },
  {
   "cell_type": "code",
   "execution_count": 45,
   "metadata": {},
   "outputs": [],
   "source": [
    "train = wrangle(fm_path = DATA_PATH+'waterpumps/train_features.csv', \n",
    "                tv_path = DATA_PATH+'waterpumps/train_labels.csv')"
   ]
  },
  {
   "cell_type": "code",
   "execution_count": 46,
   "metadata": {},
   "outputs": [
    {
     "data": {
      "text/plain": [
       "(59399, 27)"
      ]
     },
     "execution_count": 46,
     "metadata": {},
     "output_type": "execute_result"
    }
   ],
   "source": [
    "train.shape"
   ]
  },
  {
   "cell_type": "markdown",
   "metadata": {},
   "source": [
    "## Split Data"
   ]
  },
  {
   "cell_type": "code",
   "execution_count": 47,
   "metadata": {},
   "outputs": [],
   "source": [
    "# Split into FM and TV\n",
    "target = 'needs_repair'\n",
    "y = train[target]\n",
    "X = train.drop(columns = target)\n",
    "\n",
    "# Do train validate split to make confusion matrix\n",
    "X_train , X_val, y_train, y_val = train_test_split(X, y, test_size=0.2, random_state=42)"
   ]
  },
  {
   "cell_type": "markdown",
   "metadata": {},
   "source": [
    "## Establish Baseline"
   ]
  },
  {
   "cell_type": "code",
   "execution_count": 48,
   "metadata": {},
   "outputs": [
    {
     "name": "stdout",
     "output_type": "stream",
     "text": [
      "Baseline Accuracy: 0.5425829668132747\n"
     ]
    }
   ],
   "source": [
    "print('Baseline Accuracy:', y_train.value_counts(normalize = True).max())"
   ]
  },
  {
   "cell_type": "markdown",
   "metadata": {},
   "source": [
    "## Build Model"
   ]
  },
  {
   "cell_type": "code",
   "execution_count": 101,
   "metadata": {},
   "outputs": [],
   "source": [
    "model = make_pipeline(OrdinalEncoder(),\n",
    "                         SimpleImputer(),\n",
    "                         RandomForestClassifier(random_state = 42,\n",
    "                                                n_estimators = 277,\n",
    "                                                max_depth = 22,\n",
    "                                                max_samples = 0.5,\n",
    "                                                max_features = 6,\n",
    "                                                n_jobs = -1))\n",
    "\n",
    "model.fit(X_train, y_train);"
   ]
  },
  {
   "cell_type": "markdown",
   "metadata": {},
   "source": [
    "## Check Metrics"
   ]
  },
  {
   "cell_type": "markdown",
   "metadata": {},
   "source": [
    "**Accuracy**"
   ]
  },
  {
   "cell_type": "code",
   "execution_count": 102,
   "metadata": {},
   "outputs": [
    {
     "name": "stdout",
     "output_type": "stream",
     "text": [
      "Training Accuracy: 0.9579747048549001\n",
      "Validation Accuracy: 0.8248316498316498\n"
     ]
    }
   ],
   "source": [
    "print('Training Accuracy:', model.score(X_train, y_train))\n",
    "print('Validation Accuracy:', model.score(X_val, y_val)) "
   ]
  },
  {
   "cell_type": "markdown",
   "metadata": {},
   "source": [
    "**Confusion Matrix**"
   ]
  },
  {
   "cell_type": "code",
   "execution_count": 103,
   "metadata": {},
   "outputs": [
    {
     "data": {
      "image/png": "[encoded data removed]",
      "text/plain": [
       "<Figure size 432x288 with 2 Axes>"
      ]
     },
     "metadata": {
      "needs_background": "light"
     },
     "output_type": "display_data"
    }
   ],
   "source": [
    "plot_confusion_matrix(\n",
    "    model,\n",
    "    X_val, \n",
    "    y_val,\n",
    "    values_format='.0f',\n",
    "    display_labels=['no repair needed', 'needs repair']\n",
    ");"
   ]
  },
  {
   "cell_type": "code",
   "execution_count": 104,
   "metadata": {},
   "outputs": [
    {
     "name": "stdout",
     "output_type": "stream",
     "text": [
      "                  precision    recall  f1-score   support\n",
      "\n",
      "no repair needed       0.81      0.88      0.85      6476\n",
      "    needs repair       0.84      0.76      0.80      5404\n",
      "\n",
      "        accuracy                           0.82     11880\n",
      "       macro avg       0.83      0.82      0.82     11880\n",
      "    weighted avg       0.83      0.82      0.82     11880\n",
      "\n"
     ]
    }
   ],
   "source": [
    "print(classification_report(y_val,\n",
    "                            model.predict(X_val),\n",
    "                            target_names=['no repair needed', 'needs repair']))"
   ]
  },
  {
   "cell_type": "markdown",
   "metadata": {},
   "source": [
    "## Tune Model"
   ]
  },
  {
   "cell_type": "code",
   "execution_count": 82,
   "metadata": {},
   "outputs": [
    {
     "name": "stdout",
     "output_type": "stream",
     "text": [
      "Fitting 5 folds for each of 5 candidates, totalling 25 fits\n"
     ]
    }
   ],
   "source": [
    "# Set up estimator\n",
    "estimator = make_pipeline(OrdinalEncoder(),\n",
    "                          SimpleImputer(),\n",
    "                          RandomForestClassifier(random_state = 42,\n",
    "                                                 max_samples = 0.5,\n",
    "                                                 n_estimators = 277))\n",
    "\n",
    "# Want to find best randomforestclassifier max_depth\n",
    "params = {'randomforestclassifier__max_depth': range(2, 42, 2)}\n",
    "\n",
    "# Run RandomizedSearchCV\n",
    "model_rs = RandomizedSearchCV(estimator, \n",
    "                               param_distributions = params,\n",
    "                               n_iter = 5,\n",
    "                               cv = 5,\n",
    "                               n_jobs = -1,\n",
    "                               verbose = 1)\n",
    "\n",
    "# Fit randomizedsearch to data\n",
    "model_rs.fit(X_train, y_train);"
   ]
  },
  {
   "cell_type": "code",
   "execution_count": 83,
   "metadata": {},
   "outputs": [
    {
     "data": {
      "text/plain": [
       "0.8187673833108171"
      ]
     },
     "execution_count": 83,
     "metadata": {},
     "output_type": "execute_result"
    }
   ],
   "source": [
    "model_rs.best_score_"
   ]
  },
  {
   "cell_type": "code",
   "execution_count": 84,
   "metadata": {},
   "outputs": [
    {
     "data": {
      "text/plain": [
       "{'randomforestclassifier__max_depth': 22}"
      ]
     },
     "execution_count": 84,
     "metadata": {},
     "output_type": "execute_result"
    }
   ],
   "source": [
    "model_rs.best_params_"
   ]
  },
  {
   "cell_type": "markdown",
   "metadata": {},
   "source": [
    "# For Kaggle"
   ]
  },
  {
   "cell_type": "markdown",
   "metadata": {},
   "source": [
    "## Wrangle Data"
   ]
  },
  {
   "cell_type": "code",
   "execution_count": 3,
   "metadata": {},
   "outputs": [],
   "source": [
    "def wrangle(fm_path, tv_path = None):\n",
    "    # Import CSV files\n",
    "    if tv_path:\n",
    "        df = pd.merge(pd.read_csv(fm_path, \n",
    "                                   na_values = [0, -2.000000e-08],\n",
    "                                   parse_dates = ['construction_year', 'date_recorded']),\n",
    "                       pd.read_csv(tv_path)).set_index('id')\n",
    "    \n",
    "    else:\n",
    "        df = pd.read_csv(fm_path, na_values=[0, -2.000000e-08], \n",
    "                     parse_dates = ['construction_year', 'date_recorded']).set_index('id')\n",
    "    \n",
    "    # Feature engineering (Credit: Mena)\n",
    "    df['pump_age'] = df['date_recorded'].dt.year - df['construction_year'].dt.year\n",
    "    \n",
    "    # Drop constant and repeated columns\n",
    "    df.drop(columns = ['recorded_by', 'extraction_type_group', 'extraction_type_class',\n",
    "                       'quantity_group','date_recorded', 'construction_year', 'payment',\n",
    "                       'source', 'waterpoint_type_group', 'scheme_management'], \n",
    "            inplace=True)\n",
    "    \n",
    "    # Drop columns with high % of NaN values\n",
    "    df.dropna(axis = 1, thresh = len(df) * 0.65, inplace = True)\n",
    "    \n",
    "    # Columns where zeroes should be null values (Credit: Samuel E)\n",
    "    cols_w_0s = ['longitude', 'latitude', 'gps_height']\n",
    "    for col in cols_w_0s:\n",
    "        df[col] = df[col].replace(0, np.nan)\n",
    "    \n",
    "    return df"
   ]
  },
  {
   "cell_type": "code",
   "execution_count": 4,
   "metadata": {},
   "outputs": [
    {
     "data": {
      "text/html": [
       "<div>\n",
       "<style scoped>\n",
       "    .dataframe tbody tr th:only-of-type {\n",
       "        vertical-align: middle;\n",
       "    }\n",
       "\n",
       "    .dataframe tbody tr th {\n",
       "        vertical-align: top;\n",
       "    }\n",
       "\n",
       "    .dataframe thead th {\n",
       "        text-align: right;\n",
       "    }\n",
       "</style>\n",
       "<table border=\"1\" class=\"dataframe\">\n",
       "  <thead>\n",
       "    <tr style=\"text-align: right;\">\n",
       "      <th></th>\n",
       "      <th>funder</th>\n",
       "      <th>gps_height</th>\n",
       "      <th>installer</th>\n",
       "      <th>longitude</th>\n",
       "      <th>latitude</th>\n",
       "      <th>wpt_name</th>\n",
       "      <th>basin</th>\n",
       "      <th>subvillage</th>\n",
       "      <th>region</th>\n",
       "      <th>region_code</th>\n",
       "      <th>...</th>\n",
       "      <th>management_group</th>\n",
       "      <th>payment_type</th>\n",
       "      <th>water_quality</th>\n",
       "      <th>quality_group</th>\n",
       "      <th>quantity</th>\n",
       "      <th>source_type</th>\n",
       "      <th>source_class</th>\n",
       "      <th>waterpoint_type</th>\n",
       "      <th>status_group</th>\n",
       "      <th>pump_age</th>\n",
       "    </tr>\n",
       "    <tr>\n",
       "      <th>id</th>\n",
       "      <th></th>\n",
       "      <th></th>\n",
       "      <th></th>\n",
       "      <th></th>\n",
       "      <th></th>\n",
       "      <th></th>\n",
       "      <th></th>\n",
       "      <th></th>\n",
       "      <th></th>\n",
       "      <th></th>\n",
       "      <th></th>\n",
       "      <th></th>\n",
       "      <th></th>\n",
       "      <th></th>\n",
       "      <th></th>\n",
       "      <th></th>\n",
       "      <th></th>\n",
       "      <th></th>\n",
       "      <th></th>\n",
       "      <th></th>\n",
       "      <th></th>\n",
       "    </tr>\n",
       "  </thead>\n",
       "  <tbody>\n",
       "    <tr>\n",
       "      <th>69572.0</th>\n",
       "      <td>Roman</td>\n",
       "      <td>1390.0</td>\n",
       "      <td>Roman</td>\n",
       "      <td>34.938093</td>\n",
       "      <td>-9.856322</td>\n",
       "      <td>none</td>\n",
       "      <td>Lake Nyasa</td>\n",
       "      <td>Mnyusi B</td>\n",
       "      <td>Iringa</td>\n",
       "      <td>11</td>\n",
       "      <td>...</td>\n",
       "      <td>user-group</td>\n",
       "      <td>annually</td>\n",
       "      <td>soft</td>\n",
       "      <td>good</td>\n",
       "      <td>enough</td>\n",
       "      <td>spring</td>\n",
       "      <td>groundwater</td>\n",
       "      <td>communal standpipe</td>\n",
       "      <td>functional</td>\n",
       "      <td>12.0</td>\n",
       "    </tr>\n",
       "    <tr>\n",
       "      <th>8776.0</th>\n",
       "      <td>Grumeti</td>\n",
       "      <td>1399.0</td>\n",
       "      <td>GRUMETI</td>\n",
       "      <td>34.698766</td>\n",
       "      <td>-2.147466</td>\n",
       "      <td>Zahanati</td>\n",
       "      <td>Lake Victoria</td>\n",
       "      <td>Nyamara</td>\n",
       "      <td>Mara</td>\n",
       "      <td>20</td>\n",
       "      <td>...</td>\n",
       "      <td>user-group</td>\n",
       "      <td>never pay</td>\n",
       "      <td>soft</td>\n",
       "      <td>good</td>\n",
       "      <td>insufficient</td>\n",
       "      <td>rainwater harvesting</td>\n",
       "      <td>surface</td>\n",
       "      <td>communal standpipe</td>\n",
       "      <td>functional</td>\n",
       "      <td>3.0</td>\n",
       "    </tr>\n",
       "    <tr>\n",
       "      <th>34310.0</th>\n",
       "      <td>Lottery Club</td>\n",
       "      <td>686.0</td>\n",
       "      <td>World vision</td>\n",
       "      <td>37.460664</td>\n",
       "      <td>-3.821329</td>\n",
       "      <td>Kwa Mahundi</td>\n",
       "      <td>Pangani</td>\n",
       "      <td>Majengo</td>\n",
       "      <td>Manyara</td>\n",
       "      <td>21</td>\n",
       "      <td>...</td>\n",
       "      <td>user-group</td>\n",
       "      <td>per bucket</td>\n",
       "      <td>soft</td>\n",
       "      <td>good</td>\n",
       "      <td>enough</td>\n",
       "      <td>dam</td>\n",
       "      <td>surface</td>\n",
       "      <td>communal standpipe multiple</td>\n",
       "      <td>functional</td>\n",
       "      <td>4.0</td>\n",
       "    </tr>\n",
       "    <tr>\n",
       "      <th>67743.0</th>\n",
       "      <td>Unicef</td>\n",
       "      <td>263.0</td>\n",
       "      <td>UNICEF</td>\n",
       "      <td>38.486161</td>\n",
       "      <td>-11.155298</td>\n",
       "      <td>Zahanati Ya Nanyumbu</td>\n",
       "      <td>Ruvuma / Southern Coast</td>\n",
       "      <td>Mahakamani</td>\n",
       "      <td>Mtwara</td>\n",
       "      <td>90</td>\n",
       "      <td>...</td>\n",
       "      <td>user-group</td>\n",
       "      <td>never pay</td>\n",
       "      <td>soft</td>\n",
       "      <td>good</td>\n",
       "      <td>dry</td>\n",
       "      <td>borehole</td>\n",
       "      <td>groundwater</td>\n",
       "      <td>communal standpipe multiple</td>\n",
       "      <td>non functional</td>\n",
       "      <td>27.0</td>\n",
       "    </tr>\n",
       "    <tr>\n",
       "      <th>19728.0</th>\n",
       "      <td>Action In A</td>\n",
       "      <td>NaN</td>\n",
       "      <td>Artisan</td>\n",
       "      <td>31.130847</td>\n",
       "      <td>-1.825359</td>\n",
       "      <td>Shuleni</td>\n",
       "      <td>Lake Victoria</td>\n",
       "      <td>Kyanyamisa</td>\n",
       "      <td>Kagera</td>\n",
       "      <td>18</td>\n",
       "      <td>...</td>\n",
       "      <td>other</td>\n",
       "      <td>never pay</td>\n",
       "      <td>soft</td>\n",
       "      <td>good</td>\n",
       "      <td>seasonal</td>\n",
       "      <td>rainwater harvesting</td>\n",
       "      <td>surface</td>\n",
       "      <td>communal standpipe</td>\n",
       "      <td>functional</td>\n",
       "      <td>NaN</td>\n",
       "    </tr>\n",
       "  </tbody>\n",
       "</table>\n",
       "<p>5 rows × 27 columns</p>\n",
       "</div>"
      ],
      "text/plain": [
       "               funder  gps_height     installer  longitude   latitude  \\\n",
       "id                                                                      \n",
       "69572.0         Roman      1390.0         Roman  34.938093  -9.856322   \n",
       "8776.0        Grumeti      1399.0       GRUMETI  34.698766  -2.147466   \n",
       "34310.0  Lottery Club       686.0  World vision  37.460664  -3.821329   \n",
       "67743.0        Unicef       263.0        UNICEF  38.486161 -11.155298   \n",
       "19728.0   Action In A         NaN       Artisan  31.130847  -1.825359   \n",
       "\n",
       "                     wpt_name                    basin  subvillage   region  \\\n",
       "id                                                                            \n",
       "69572.0                  none               Lake Nyasa    Mnyusi B   Iringa   \n",
       "8776.0               Zahanati            Lake Victoria     Nyamara     Mara   \n",
       "34310.0           Kwa Mahundi                  Pangani     Majengo  Manyara   \n",
       "67743.0  Zahanati Ya Nanyumbu  Ruvuma / Southern Coast  Mahakamani   Mtwara   \n",
       "19728.0               Shuleni            Lake Victoria  Kyanyamisa   Kagera   \n",
       "\n",
       "         region_code  ...  management_group payment_type water_quality  \\\n",
       "id                    ...                                                \n",
       "69572.0           11  ...        user-group     annually          soft   \n",
       "8776.0            20  ...        user-group    never pay          soft   \n",
       "34310.0           21  ...        user-group   per bucket          soft   \n",
       "67743.0           90  ...        user-group    never pay          soft   \n",
       "19728.0           18  ...             other    never pay          soft   \n",
       "\n",
       "        quality_group      quantity           source_type source_class  \\\n",
       "id                                                                       \n",
       "69572.0          good        enough                spring  groundwater   \n",
       "8776.0           good  insufficient  rainwater harvesting      surface   \n",
       "34310.0          good        enough                   dam      surface   \n",
       "67743.0          good           dry              borehole  groundwater   \n",
       "19728.0          good      seasonal  rainwater harvesting      surface   \n",
       "\n",
       "                     waterpoint_type    status_group pump_age  \n",
       "id                                                             \n",
       "69572.0           communal standpipe      functional     12.0  \n",
       "8776.0            communal standpipe      functional      3.0  \n",
       "34310.0  communal standpipe multiple      functional      4.0  \n",
       "67743.0  communal standpipe multiple  non functional     27.0  \n",
       "19728.0           communal standpipe      functional      NaN  \n",
       "\n",
       "[5 rows x 27 columns]"
      ]
     },
     "execution_count": 4,
     "metadata": {},
     "output_type": "execute_result"
    }
   ],
   "source": [
    "train = wrangle(fm_path = DATA_PATH+'waterpumps/train_features.csv', \n",
    "                tv_path = DATA_PATH+'waterpumps/train_labels.csv')\n",
    "train.head()"
   ]
  },
  {
   "cell_type": "code",
   "execution_count": 5,
   "metadata": {},
   "outputs": [
    {
     "data": {
      "text/plain": [
       "(59399, 27)"
      ]
     },
     "execution_count": 5,
     "metadata": {},
     "output_type": "execute_result"
    }
   ],
   "source": [
    "train.shape"
   ]
  },
  {
   "cell_type": "markdown",
   "metadata": {},
   "source": [
    "## Split Data"
   ]
  },
  {
   "cell_type": "code",
   "execution_count": 12,
   "metadata": {},
   "outputs": [],
   "source": [
    "# Split into FM and TV\n",
    "target = 'status_group'\n",
    "y_train = train[target]\n",
    "X_train = train.drop(columns = target)"
   ]
  },
  {
   "cell_type": "markdown",
   "metadata": {},
   "source": [
    "## Establish Baseline"
   ]
  },
  {
   "cell_type": "code",
   "execution_count": 13,
   "metadata": {},
   "outputs": [
    {
     "name": "stdout",
     "output_type": "stream",
     "text": [
      "Baseline Accuracy: 0.5430899510092763\n"
     ]
    }
   ],
   "source": [
    "print('Baseline Accuracy:', y_train.value_counts(normalize = True).max())"
   ]
  },
  {
   "cell_type": "markdown",
   "metadata": {},
   "source": [
    "## Build Model"
   ]
  },
  {
   "cell_type": "code",
   "execution_count": 14,
   "metadata": {},
   "outputs": [],
   "source": [
    "rf_model = make_pipeline(OrdinalEncoder(),\n",
    "                         SimpleImputer(),\n",
    "                         RandomForestClassifier(random_state = 42,\n",
    "                                                n_estimators = 277,\n",
    "                                                max_depth = 35,\n",
    "                                                max_samples = 0.5,\n",
    "                                                max_features = 4,\n",
    "                                                n_jobs = -1))\n",
    "\n",
    "rf_model.fit(X_train, y_train);"
   ]
  },
  {
   "cell_type": "markdown",
   "metadata": {},
   "source": [
    "**Check Scores**"
   ]
  },
  {
   "cell_type": "code",
   "execution_count": 15,
   "metadata": {},
   "outputs": [
    {
     "name": "stdout",
     "output_type": "stream",
     "text": [
      "CV score RandomForestClassifier\n",
      "[0.81548822 0.82087542 0.80976431 0.80824916 0.82087542 0.80824916\n",
      " 0.81296296 0.81060606 0.8043771  0.81781445]\n",
      "Mean CV accuracy score: 0.812926225832439\n",
      "STD CV accuracy score: 0.0053764070638947364\n"
     ]
    }
   ],
   "source": [
    "cv_scores_rf = cross_val_score(rf_model, X_train, y_train, cv = 10, n_jobs = -1)\n",
    "\n",
    "print('CV score RandomForestClassifier')\n",
    "print(cv_scores_rf)\n",
    "print('Mean CV accuracy score:', cv_scores_rf.mean())\n",
    "print('STD CV accuracy score:', cv_scores_rf.std())"
   ]
  },
  {
   "cell_type": "markdown",
   "metadata": {},
   "source": [
    "## Make a Submission"
   ]
  },
  {
   "cell_type": "code",
   "execution_count": 17,
   "metadata": {},
   "outputs": [],
   "source": [
    "# Read test_features.csv \n",
    "test = wrangle(DATA_PATH+'waterpumps/test_features.csv')\n",
    "\n",
    "# Make predictions on test data\n",
    "y_pred = rf_model.predict(test)\n",
    "\n",
    "# Put predictions in necessary format for submission to Kaggle\n",
    "submission = pd.DataFrame({'status_group':y_pred}, index = test.index)\n",
    "\n",
    "# Save csv with predictions in proper format\n",
    "submission.to_csv('02_18_2021_submission.csv')"
   ]
  },
  {
   "cell_type": "markdown",
   "metadata": {},
   "source": [
    "## Communicate Results"
   ]
  },
  {
   "cell_type": "code",
   "execution_count": 16,
   "metadata": {},
   "outputs": [
    {
     "data": {
      "image/png": "[encoded data removed]",
      "text/plain": [
       "<Figure size 432x288 with 1 Axes>"
      ]
     },
     "metadata": {
      "needs_background": "light"
     },
     "output_type": "display_data"
    }
   ],
   "source": [
    "importances = rf_model.named_steps['randomforestclassifier'].feature_importances_\n",
    "\n",
    "feat_names = X_train.columns\n",
    "\n",
    "pd.Series(importances, index = feat_names).sort_values().tail(10).plot(kind = 'barh')\n",
    "plt.xlabel('Gini Importance');"
   ]
  },
  {
   "cell_type": "code",
   "execution_count": null,
   "metadata": {},
   "outputs": [],
   "source": []
  }
 ],
 "metadata": {
  "kernelspec": {
   "display_name": "unit2kagenv",
   "language": "python",
   "name": "unit2kagenv"
  },
  "language_info": {
   "codemirror_mode": {
    "name": "ipython",
    "version": 3
   },
   "file_extension": ".py",
   "mimetype": "text/x-python",
   "name": "python",
   "nbconvert_exporter": "python",
   "pygments_lexer": "ipython3",
   "version": "3.8.6"
  }
 },
 "nbformat": 4,
 "nbformat_minor": 1
}
